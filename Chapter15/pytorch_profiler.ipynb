{
 "cells": [
  {
   "cell_type": "markdown",
   "metadata": {},
   "source": [
    "## import modules"
   ]
  },
  {
   "cell_type": "code",
   "execution_count": 16,
   "metadata": {
    "scrolled": true
   },
   "outputs": [
    {
     "name": "stdout",
     "output_type": "stream",
     "text": [
      "Requirement already satisfied: torch==1.12 in /Users/ashish.jha/opt/anaconda3/lib/python3.9/site-packages (1.12.0)\n",
      "Requirement already satisfied: typing-extensions in /Users/ashish.jha/opt/anaconda3/lib/python3.9/site-packages (from torch==1.12) (4.1.1)\n",
      "Requirement already satisfied: torchvision==0.13 in /Users/ashish.jha/opt/anaconda3/lib/python3.9/site-packages (0.13.0)\n",
      "Requirement already satisfied: pillow!=8.3.*,>=5.3.0 in /Users/ashish.jha/opt/anaconda3/lib/python3.9/site-packages (from torchvision==0.13) (9.0.1)\n",
      "Requirement already satisfied: requests in /Users/ashish.jha/opt/anaconda3/lib/python3.9/site-packages (from torchvision==0.13) (2.27.1)\n",
      "Requirement already satisfied: torch==1.12.0 in /Users/ashish.jha/opt/anaconda3/lib/python3.9/site-packages (from torchvision==0.13) (1.12.0)\n",
      "Requirement already satisfied: typing-extensions in /Users/ashish.jha/opt/anaconda3/lib/python3.9/site-packages (from torchvision==0.13) (4.1.1)\n",
      "Requirement already satisfied: numpy in /Users/ashish.jha/opt/anaconda3/lib/python3.9/site-packages (from torchvision==0.13) (1.21.5)\n",
      "Requirement already satisfied: certifi>=2017.4.17 in /Users/ashish.jha/opt/anaconda3/lib/python3.9/site-packages (from requests->torchvision==0.13) (2021.10.8)\n",
      "Requirement already satisfied: idna<4,>=2.5 in /Users/ashish.jha/opt/anaconda3/lib/python3.9/site-packages (from requests->torchvision==0.13) (3.3)\n",
      "Requirement already satisfied: urllib3<1.27,>=1.21.1 in /Users/ashish.jha/opt/anaconda3/lib/python3.9/site-packages (from requests->torchvision==0.13) (1.26.9)\n",
      "Requirement already satisfied: charset-normalizer~=2.0.0 in /Users/ashish.jha/opt/anaconda3/lib/python3.9/site-packages (from requests->torchvision==0.13) (2.0.4)\n",
      "Requirement already satisfied: nltk==3.7 in /Users/ashish.jha/opt/anaconda3/lib/python3.9/site-packages (3.7)\n",
      "Requirement already satisfied: click in /Users/ashish.jha/opt/anaconda3/lib/python3.9/site-packages (from nltk==3.7) (8.0.4)\n",
      "Requirement already satisfied: tqdm in /Users/ashish.jha/opt/anaconda3/lib/python3.9/site-packages (from nltk==3.7) (4.64.0)\n",
      "Requirement already satisfied: regex>=2021.8.3 in /Users/ashish.jha/opt/anaconda3/lib/python3.9/site-packages (from nltk==3.7) (2022.3.15)\n",
      "Requirement already satisfied: joblib in /Users/ashish.jha/opt/anaconda3/lib/python3.9/site-packages (from nltk==3.7) (1.1.0)\n",
      "1.12.0\n",
      "0.13.0\n",
      "3.7\n"
     ]
    }
   ],
   "source": [
    "!pip install torch==1.12\n",
    "!pip install torchvision==0.13\n",
    "!pip install matplotlib==3.5.2"
   ]
  },
  {
   "cell_type": "code",
   "execution_count": 21,
   "metadata": {},
   "outputs": [],
   "source": [
    "import torch\n",
    "import torch.nn as nn\n",
    "import torch.nn.functional as F\n",
    "import torch.optim as optim\n",
    "from torch.utils.data import DataLoader\n",
    "from torchvision import datasets, transforms\n",
    "\n",
    "import matplotlib.pyplot as plt"
   ]
  },
  {
   "cell_type": "markdown",
   "metadata": {},
   "source": [
    "## define model architecture"
   ]
  },
  {
   "cell_type": "code",
   "execution_count": 2,
   "metadata": {},
   "outputs": [],
   "source": [
    "class ConvNet(nn.Module):\n",
    "    def __init__(self):\n",
    "        super(ConvNet, self).__init__()\n",
    "        self.cn1 = nn.Conv2d(1, 16, 3, 1)\n",
    "        self.cn2 = nn.Conv2d(16, 32, 3, 1)\n",
    "        self.dp1 = nn.Dropout2d(0.10)\n",
    "        self.dp2 = nn.Dropout2d(0.25)\n",
    "        self.fc1 = nn.Linear(4608, 64) # 4608 is basically 12 X 12 X 32\n",
    "        self.fc2 = nn.Linear(64, 10)\n",
    " \n",
    "    def forward(self, x):\n",
    "        x = self.cn1(x)\n",
    "        x = F.relu(x)\n",
    "        x = self.cn2(x)\n",
    "        x = F.relu(x)\n",
    "        x = F.max_pool2d(x, 2)\n",
    "        x = self.dp1(x)\n",
    "        x = torch.flatten(x, 1)\n",
    "        x = self.fc1(x)\n",
    "        x = F.relu(x)\n",
    "        x = self.dp2(x)\n",
    "        x = self.fc2(x)\n",
    "        op = F.log_softmax(x, dim=1)\n",
    "        return op"
   ]
  },
  {
   "cell_type": "markdown",
   "metadata": {},
   "source": [
    "## define training and inference routines"
   ]
  },
  {
   "cell_type": "code",
   "execution_count": 3,
   "metadata": {},
   "outputs": [],
   "source": [
    "def train(model, device, train_dataloader, optim, epoch):\n",
    "    model.train()\n",
    "    for b_i, (X, y) in enumerate(train_dataloader):\n",
    "        X, y = X.to(device), y.to(device)\n",
    "        optim.zero_grad()\n",
    "        pred_prob = model(X)\n",
    "        loss = F.nll_loss(pred_prob, y) # nll is the negative likelihood loss\n",
    "        loss.backward()\n",
    "        optim.step()\n",
    "        if b_i % 10 == 0:\n",
    "            print('epoch: {} [{}/{} ({:.0f}%)]\\t training loss: {:.6f}'.format(\n",
    "                epoch, b_i * len(X), len(train_dataloader.dataset),\n",
    "                100. * b_i / len(train_dataloader), loss.item()))\n"
   ]
  },
  {
   "cell_type": "code",
   "execution_count": 4,
   "metadata": {},
   "outputs": [],
   "source": [
    "def test(model, device, test_dataloader):\n",
    "    model.eval()\n",
    "    loss = 0\n",
    "    success = 0\n",
    "    with torch.no_grad():\n",
    "        for X, y in test_dataloader:\n",
    "            X, y = X.to(device), y.to(device)\n",
    "            pred_prob = model(X)\n",
    "            loss += F.nll_loss(pred_prob, y, reduction='sum').item()  # loss summed across the batch\n",
    "            pred = pred_prob.argmax(dim=1, keepdim=True)  # us argmax to get the most likely prediction\n",
    "            success += pred.eq(y.view_as(pred)).sum().item()\n",
    "\n",
    "    loss /= len(test_dataloader.dataset)\n",
    "\n",
    "    print('\\nTest dataset: Overall Loss: {:.4f}, Overall Accuracy: {}/{} ({:.0f}%)\\n'.format(\n",
    "        loss, success, len(test_dataloader.dataset),\n",
    "        100. * success / len(test_dataloader.dataset)))\n"
   ]
  },
  {
   "cell_type": "markdown",
   "metadata": {},
   "source": [
    "## create data loaders"
   ]
  },
  {
   "cell_type": "code",
   "execution_count": 5,
   "metadata": {},
   "outputs": [],
   "source": [
    "# The mean and standard deviation values are calculated as the mean of all pixel values of all images in the training dataset\n",
    "train_dataloader = torch.utils.data.DataLoader(\n",
    "    datasets.MNIST('../data', train=True, download=True,\n",
    "                   transform=transforms.Compose([\n",
    "                       transforms.ToTensor(),\n",
    "                       transforms.Normalize((0.1302,), (0.3069,))])), # train_X.mean()/256. and train_X.std()/256.\n",
    "    batch_size=32, shuffle=True)\n",
    "\n",
    "test_dataloader = torch.utils.data.DataLoader(\n",
    "    datasets.MNIST('../data', train=False, \n",
    "                   transform=transforms.Compose([\n",
    "                       transforms.ToTensor(),\n",
    "                       transforms.Normalize((0.1302,), (0.3069,)) \n",
    "                   ])),\n",
    "    batch_size=500, shuffle=False)"
   ]
  },
  {
   "cell_type": "markdown",
   "metadata": {},
   "source": [
    "## define optimizer and run training epochs"
   ]
  },
  {
   "cell_type": "code",
   "execution_count": 6,
   "metadata": {},
   "outputs": [],
   "source": [
    "torch.manual_seed(0)\n",
    "device = torch.device(\"cpu\")\n",
    "\n",
    "model = ConvNet()\n",
    "optimizer = optim.Adadelta(model.parameters(), lr=0.5)"
   ]
  },
  {
   "cell_type": "markdown",
   "metadata": {},
   "source": [
    "## model training"
   ]
  },
  {
   "cell_type": "code",
   "execution_count": 7,
   "metadata": {
    "scrolled": true
   },
   "outputs": [
    {
     "name": "stderr",
     "output_type": "stream",
     "text": [
      "/Users/ashish.jha/opt/anaconda3/envs/mastering_pytorch/lib/python3.9/site-packages/torch/nn/functional.py:1331: UserWarning: dropout2d: Received a 2-D input to dropout2d, which is deprecated and will result in an error in a future release. To retain the behavior and silence this warning, please use dropout instead. Note that dropout2d exists to provide channel-wise dropout on inputs with 2 spatial dimensions, a channel dimension, and an optional batch dimension (i.e. 3D or 4D inputs).\n",
      "  warnings.warn(warn_msg)\n"
     ]
    },
    {
     "name": "stdout",
     "output_type": "stream",
     "text": [
      "epoch: 1 [0/60000 (0%)]\t training loss: 2.310609\n",
      "epoch: 1 [320/60000 (1%)]\t training loss: 1.924133\n",
      "epoch: 1 [640/60000 (1%)]\t training loss: 1.313336\n",
      "epoch: 1 [960/60000 (2%)]\t training loss: 0.796470\n",
      "epoch: 1 [1280/60000 (2%)]\t training loss: 0.819801\n",
      "epoch: 1 [1600/60000 (3%)]\t training loss: 0.678430\n",
      "epoch: 1 [1920/60000 (3%)]\t training loss: 0.477187\n",
      "epoch: 1 [2240/60000 (4%)]\t training loss: 0.529062\n",
      "epoch: 1 [2560/60000 (4%)]\t training loss: 0.468829\n",
      "epoch: 1 [2880/60000 (5%)]\t training loss: 0.242887\n",
      "epoch: 1 [3200/60000 (5%)]\t training loss: 0.519632\n",
      "epoch: 1 [3520/60000 (6%)]\t training loss: 0.262917\n",
      "epoch: 1 [3840/60000 (6%)]\t training loss: 0.467169\n",
      "epoch: 1 [4160/60000 (7%)]\t training loss: 0.424967\n",
      "epoch: 1 [4480/60000 (7%)]\t training loss: 0.316685\n",
      "epoch: 1 [4800/60000 (8%)]\t training loss: 0.497946\n",
      "epoch: 1 [5120/60000 (9%)]\t training loss: 0.154707\n",
      "epoch: 1 [5440/60000 (9%)]\t training loss: 0.371073\n",
      "epoch: 1 [5760/60000 (10%)]\t training loss: 0.083154\n",
      "epoch: 1 [6080/60000 (10%)]\t training loss: 0.175202\n",
      "epoch: 1 [6400/60000 (11%)]\t training loss: 0.291596\n",
      "epoch: 1 [6720/60000 (11%)]\t training loss: 0.072844\n",
      "epoch: 1 [7040/60000 (12%)]\t training loss: 0.329937\n",
      "epoch: 1 [7360/60000 (12%)]\t training loss: 0.038123\n",
      "epoch: 1 [7680/60000 (13%)]\t training loss: 0.365540\n",
      "epoch: 1 [8000/60000 (13%)]\t training loss: 0.221202\n",
      "epoch: 1 [8320/60000 (14%)]\t training loss: 0.371912\n",
      "epoch: 1 [8640/60000 (14%)]\t training loss: 0.202585\n",
      "epoch: 1 [8960/60000 (15%)]\t training loss: 0.058401\n",
      "epoch: 1 [9280/60000 (15%)]\t training loss: 0.326645\n",
      "epoch: 1 [9600/60000 (16%)]\t training loss: 0.237990\n",
      "epoch: 1 [9920/60000 (17%)]\t training loss: 0.197578\n",
      "epoch: 1 [10240/60000 (17%)]\t training loss: 0.203406\n",
      "epoch: 1 [10560/60000 (18%)]\t training loss: 0.417197\n",
      "epoch: 1 [10880/60000 (18%)]\t training loss: 0.076786\n",
      "epoch: 1 [11200/60000 (19%)]\t training loss: 0.050403\n",
      "epoch: 1 [11520/60000 (19%)]\t training loss: 0.234648\n",
      "epoch: 1 [11840/60000 (20%)]\t training loss: 0.057915\n",
      "epoch: 1 [12160/60000 (20%)]\t training loss: 0.386026\n",
      "epoch: 1 [12480/60000 (21%)]\t training loss: 0.032246\n",
      "epoch: 1 [12800/60000 (21%)]\t training loss: 0.091289\n",
      "epoch: 1 [13120/60000 (22%)]\t training loss: 0.109898\n",
      "epoch: 1 [13440/60000 (22%)]\t training loss: 0.166075\n",
      "epoch: 1 [13760/60000 (23%)]\t training loss: 0.055113\n",
      "epoch: 1 [14080/60000 (23%)]\t training loss: 0.052191\n",
      "epoch: 1 [14400/60000 (24%)]\t training loss: 0.085119\n",
      "epoch: 1 [14720/60000 (25%)]\t training loss: 0.161323\n",
      "epoch: 1 [15040/60000 (25%)]\t training loss: 0.361672\n",
      "epoch: 1 [15360/60000 (26%)]\t training loss: 0.082399\n",
      "epoch: 1 [15680/60000 (26%)]\t training loss: 0.120748\n",
      "epoch: 1 [16000/60000 (27%)]\t training loss: 0.091515\n",
      "epoch: 1 [16320/60000 (27%)]\t training loss: 0.165569\n",
      "epoch: 1 [16640/60000 (28%)]\t training loss: 0.039226\n",
      "epoch: 1 [16960/60000 (28%)]\t training loss: 0.311345\n",
      "epoch: 1 [17280/60000 (29%)]\t training loss: 0.056156\n",
      "epoch: 1 [17600/60000 (29%)]\t training loss: 0.033082\n",
      "epoch: 1 [17920/60000 (30%)]\t training loss: 0.041171\n",
      "epoch: 1 [18240/60000 (30%)]\t training loss: 0.022212\n",
      "epoch: 1 [18560/60000 (31%)]\t training loss: 0.048296\n",
      "epoch: 1 [18880/60000 (31%)]\t training loss: 0.208278\n",
      "epoch: 1 [19200/60000 (32%)]\t training loss: 0.081490\n",
      "epoch: 1 [19520/60000 (33%)]\t training loss: 0.053298\n",
      "epoch: 1 [19840/60000 (33%)]\t training loss: 0.073377\n",
      "epoch: 1 [20160/60000 (34%)]\t training loss: 0.110558\n",
      "epoch: 1 [20480/60000 (34%)]\t training loss: 0.064500\n",
      "epoch: 1 [20800/60000 (35%)]\t training loss: 0.223161\n",
      "epoch: 1 [21120/60000 (35%)]\t training loss: 0.281652\n",
      "epoch: 1 [21440/60000 (36%)]\t training loss: 0.226155\n",
      "epoch: 1 [21760/60000 (36%)]\t training loss: 0.080764\n",
      "epoch: 1 [22080/60000 (37%)]\t training loss: 0.091594\n",
      "epoch: 1 [22400/60000 (37%)]\t training loss: 0.137987\n",
      "epoch: 1 [22720/60000 (38%)]\t training loss: 0.269463\n",
      "epoch: 1 [23040/60000 (38%)]\t training loss: 0.077316\n",
      "epoch: 1 [23360/60000 (39%)]\t training loss: 0.145632\n",
      "epoch: 1 [23680/60000 (39%)]\t training loss: 0.262074\n",
      "epoch: 1 [24000/60000 (40%)]\t training loss: 0.172739\n",
      "epoch: 1 [24320/60000 (41%)]\t training loss: 0.060116\n",
      "epoch: 1 [24640/60000 (41%)]\t training loss: 0.144769\n",
      "epoch: 1 [24960/60000 (42%)]\t training loss: 0.028676\n",
      "epoch: 1 [25280/60000 (42%)]\t training loss: 0.019472\n",
      "epoch: 1 [25600/60000 (43%)]\t training loss: 0.561370\n",
      "epoch: 1 [25920/60000 (43%)]\t training loss: 0.462314\n",
      "epoch: 1 [26240/60000 (44%)]\t training loss: 0.119219\n",
      "epoch: 1 [26560/60000 (44%)]\t training loss: 0.027335\n",
      "epoch: 1 [26880/60000 (45%)]\t training loss: 0.165398\n",
      "epoch: 1 [27200/60000 (45%)]\t training loss: 0.015198\n",
      "epoch: 1 [27520/60000 (46%)]\t training loss: 0.038244\n",
      "epoch: 1 [27840/60000 (46%)]\t training loss: 0.120652\n",
      "epoch: 1 [28160/60000 (47%)]\t training loss: 0.036380\n",
      "epoch: 1 [28480/60000 (47%)]\t training loss: 0.365926\n",
      "epoch: 1 [28800/60000 (48%)]\t training loss: 0.102674\n",
      "epoch: 1 [29120/60000 (49%)]\t training loss: 0.211693\n",
      "epoch: 1 [29440/60000 (49%)]\t training loss: 0.012908\n",
      "epoch: 1 [29760/60000 (50%)]\t training loss: 0.059565\n",
      "epoch: 1 [30080/60000 (50%)]\t training loss: 0.552917\n",
      "epoch: 1 [30400/60000 (51%)]\t training loss: 0.131238\n",
      "epoch: 1 [30720/60000 (51%)]\t training loss: 0.192656\n",
      "epoch: 1 [31040/60000 (52%)]\t training loss: 0.090906\n",
      "epoch: 1 [31360/60000 (52%)]\t training loss: 0.053426\n",
      "epoch: 1 [31680/60000 (53%)]\t training loss: 0.025051\n",
      "epoch: 1 [32000/60000 (53%)]\t training loss: 0.017087\n",
      "epoch: 1 [32320/60000 (54%)]\t training loss: 0.102049\n",
      "epoch: 1 [32640/60000 (54%)]\t training loss: 0.119944\n",
      "epoch: 1 [32960/60000 (55%)]\t training loss: 0.067212\n",
      "epoch: 1 [33280/60000 (55%)]\t training loss: 0.217799\n",
      "epoch: 1 [33600/60000 (56%)]\t training loss: 0.175126\n",
      "epoch: 1 [33920/60000 (57%)]\t training loss: 0.014184\n",
      "epoch: 1 [34240/60000 (57%)]\t training loss: 0.039682\n",
      "epoch: 1 [34560/60000 (58%)]\t training loss: 0.003684\n",
      "epoch: 1 [34880/60000 (58%)]\t training loss: 0.139418\n",
      "epoch: 1 [35200/60000 (59%)]\t training loss: 0.229340\n",
      "epoch: 1 [35520/60000 (59%)]\t training loss: 0.126132\n",
      "epoch: 1 [35840/60000 (60%)]\t training loss: 0.015808\n",
      "epoch: 1 [36160/60000 (60%)]\t training loss: 0.155424\n",
      "epoch: 1 [36480/60000 (61%)]\t training loss: 0.101188\n",
      "epoch: 1 [36800/60000 (61%)]\t training loss: 0.141061\n",
      "epoch: 1 [37120/60000 (62%)]\t training loss: 0.054613\n",
      "epoch: 1 [37440/60000 (62%)]\t training loss: 0.182750\n",
      "epoch: 1 [37760/60000 (63%)]\t training loss: 0.027526\n",
      "epoch: 1 [38080/60000 (63%)]\t training loss: 0.109294\n",
      "epoch: 1 [38400/60000 (64%)]\t training loss: 0.048687\n",
      "epoch: 1 [38720/60000 (65%)]\t training loss: 0.408164\n",
      "epoch: 1 [39040/60000 (65%)]\t training loss: 0.053339\n",
      "epoch: 1 [39360/60000 (66%)]\t training loss: 0.192822\n",
      "epoch: 1 [39680/60000 (66%)]\t training loss: 0.027606\n",
      "epoch: 1 [40000/60000 (67%)]\t training loss: 0.148821\n",
      "epoch: 1 [40320/60000 (67%)]\t training loss: 0.063613\n",
      "epoch: 1 [40640/60000 (68%)]\t training loss: 0.202565\n",
      "epoch: 1 [40960/60000 (68%)]\t training loss: 0.189350\n",
      "epoch: 1 [41280/60000 (69%)]\t training loss: 0.214407\n",
      "epoch: 1 [41600/60000 (69%)]\t training loss: 0.161451\n",
      "epoch: 1 [41920/60000 (70%)]\t training loss: 0.052790\n",
      "epoch: 1 [42240/60000 (70%)]\t training loss: 0.012506\n",
      "epoch: 1 [42560/60000 (71%)]\t training loss: 0.035301\n",
      "epoch: 1 [42880/60000 (71%)]\t training loss: 0.092850\n",
      "epoch: 1 [43200/60000 (72%)]\t training loss: 0.033246\n",
      "epoch: 1 [43520/60000 (73%)]\t training loss: 0.207905\n",
      "epoch: 1 [43840/60000 (73%)]\t training loss: 0.049901\n",
      "epoch: 1 [44160/60000 (74%)]\t training loss: 0.145966\n",
      "epoch: 1 [44480/60000 (74%)]\t training loss: 0.058936\n",
      "epoch: 1 [44800/60000 (75%)]\t training loss: 0.230229\n",
      "epoch: 1 [45120/60000 (75%)]\t training loss: 0.021234\n",
      "epoch: 1 [45440/60000 (76%)]\t training loss: 0.197854\n",
      "epoch: 1 [45760/60000 (76%)]\t training loss: 0.005165\n",
      "epoch: 1 [46080/60000 (77%)]\t training loss: 0.204519\n",
      "epoch: 1 [46400/60000 (77%)]\t training loss: 0.062557\n",
      "epoch: 1 [46720/60000 (78%)]\t training loss: 0.101335\n",
      "epoch: 1 [47040/60000 (78%)]\t training loss: 0.078106\n",
      "epoch: 1 [47360/60000 (79%)]\t training loss: 0.033769\n",
      "epoch: 1 [47680/60000 (79%)]\t training loss: 0.207172\n",
      "epoch: 1 [48000/60000 (80%)]\t training loss: 0.195945\n",
      "epoch: 1 [48320/60000 (81%)]\t training loss: 0.169968\n",
      "epoch: 1 [48640/60000 (81%)]\t training loss: 0.016087\n"
     ]
    },
    {
     "name": "stdout",
     "output_type": "stream",
     "text": [
      "epoch: 1 [48960/60000 (82%)]\t training loss: 0.064825\n",
      "epoch: 1 [49280/60000 (82%)]\t training loss: 0.186619\n",
      "epoch: 1 [49600/60000 (83%)]\t training loss: 0.234463\n",
      "epoch: 1 [49920/60000 (83%)]\t training loss: 0.135859\n",
      "epoch: 1 [50240/60000 (84%)]\t training loss: 0.060284\n",
      "epoch: 1 [50560/60000 (84%)]\t training loss: 0.006255\n",
      "epoch: 1 [50880/60000 (85%)]\t training loss: 0.006335\n",
      "epoch: 1 [51200/60000 (85%)]\t training loss: 0.230939\n",
      "epoch: 1 [51520/60000 (86%)]\t training loss: 0.028286\n",
      "epoch: 1 [51840/60000 (86%)]\t training loss: 0.009054\n",
      "epoch: 1 [52160/60000 (87%)]\t training loss: 0.015087\n",
      "epoch: 1 [52480/60000 (87%)]\t training loss: 0.012862\n",
      "epoch: 1 [52800/60000 (88%)]\t training loss: 0.037046\n",
      "epoch: 1 [53120/60000 (89%)]\t training loss: 0.027532\n",
      "epoch: 1 [53440/60000 (89%)]\t training loss: 0.015318\n",
      "epoch: 1 [53760/60000 (90%)]\t training loss: 0.067134\n",
      "epoch: 1 [54080/60000 (90%)]\t training loss: 0.015243\n",
      "epoch: 1 [54400/60000 (91%)]\t training loss: 0.090634\n",
      "epoch: 1 [54720/60000 (91%)]\t training loss: 0.012734\n",
      "epoch: 1 [55040/60000 (92%)]\t training loss: 0.002452\n",
      "epoch: 1 [55360/60000 (92%)]\t training loss: 0.067479\n",
      "epoch: 1 [55680/60000 (93%)]\t training loss: 0.048772\n",
      "epoch: 1 [56000/60000 (93%)]\t training loss: 0.054053\n",
      "epoch: 1 [56320/60000 (94%)]\t training loss: 0.133125\n",
      "epoch: 1 [56640/60000 (94%)]\t training loss: 0.066591\n",
      "epoch: 1 [56960/60000 (95%)]\t training loss: 0.034025\n",
      "epoch: 1 [57280/60000 (95%)]\t training loss: 0.086131\n",
      "epoch: 1 [57600/60000 (96%)]\t training loss: 0.003845\n",
      "epoch: 1 [57920/60000 (97%)]\t training loss: 0.079281\n",
      "epoch: 1 [58240/60000 (97%)]\t training loss: 0.028875\n",
      "epoch: 1 [58560/60000 (98%)]\t training loss: 0.009433\n",
      "epoch: 1 [58880/60000 (98%)]\t training loss: 0.095279\n",
      "epoch: 1 [59200/60000 (99%)]\t training loss: 0.005893\n",
      "epoch: 1 [59520/60000 (99%)]\t training loss: 0.037366\n",
      "epoch: 1 [59840/60000 (100%)]\t training loss: 0.032506\n",
      "\n",
      "Test dataset: Overall Loss: 0.0473, Overall Accuracy: 9848/10000 (98%)\n",
      "\n",
      "epoch: 2 [0/60000 (0%)]\t training loss: 0.070709\n",
      "epoch: 2 [320/60000 (1%)]\t training loss: 0.051786\n",
      "epoch: 2 [640/60000 (1%)]\t training loss: 0.136164\n",
      "epoch: 2 [960/60000 (2%)]\t training loss: 0.062196\n",
      "epoch: 2 [1280/60000 (2%)]\t training loss: 0.044748\n",
      "epoch: 2 [1600/60000 (3%)]\t training loss: 0.003140\n",
      "epoch: 2 [1920/60000 (3%)]\t training loss: 0.076532\n",
      "epoch: 2 [2240/60000 (4%)]\t training loss: 0.027830\n",
      "epoch: 2 [2560/60000 (4%)]\t training loss: 0.153972\n",
      "epoch: 2 [2880/60000 (5%)]\t training loss: 0.009596\n",
      "epoch: 2 [3200/60000 (5%)]\t training loss: 0.053235\n",
      "epoch: 2 [3520/60000 (6%)]\t training loss: 0.013768\n",
      "epoch: 2 [3840/60000 (6%)]\t training loss: 0.059202\n",
      "epoch: 2 [4160/60000 (7%)]\t training loss: 0.020426\n",
      "epoch: 2 [4480/60000 (7%)]\t training loss: 0.048670\n",
      "epoch: 2 [4800/60000 (8%)]\t training loss: 0.023108\n",
      "epoch: 2 [5120/60000 (9%)]\t training loss: 0.194406\n",
      "epoch: 2 [5440/60000 (9%)]\t training loss: 0.122994\n",
      "epoch: 2 [5760/60000 (10%)]\t training loss: 0.097873\n",
      "epoch: 2 [6080/60000 (10%)]\t training loss: 0.056821\n",
      "epoch: 2 [6400/60000 (11%)]\t training loss: 0.051825\n",
      "epoch: 2 [6720/60000 (11%)]\t training loss: 0.025376\n",
      "epoch: 2 [7040/60000 (12%)]\t training loss: 0.006245\n",
      "epoch: 2 [7360/60000 (12%)]\t training loss: 0.068986\n",
      "epoch: 2 [7680/60000 (13%)]\t training loss: 0.021454\n",
      "epoch: 2 [8000/60000 (13%)]\t training loss: 0.194936\n",
      "epoch: 2 [8320/60000 (14%)]\t training loss: 0.051991\n",
      "epoch: 2 [8640/60000 (14%)]\t training loss: 0.019740\n",
      "epoch: 2 [8960/60000 (15%)]\t training loss: 0.015177\n",
      "epoch: 2 [9280/60000 (15%)]\t training loss: 0.003974\n",
      "epoch: 2 [9600/60000 (16%)]\t training loss: 0.066802\n",
      "epoch: 2 [9920/60000 (17%)]\t training loss: 0.003462\n",
      "epoch: 2 [10240/60000 (17%)]\t training loss: 0.012892\n",
      "epoch: 2 [10560/60000 (18%)]\t training loss: 0.001281\n",
      "epoch: 2 [10880/60000 (18%)]\t training loss: 0.079576\n",
      "epoch: 2 [11200/60000 (19%)]\t training loss: 0.011762\n",
      "epoch: 2 [11520/60000 (19%)]\t training loss: 0.006387\n",
      "epoch: 2 [11840/60000 (20%)]\t training loss: 0.072658\n",
      "epoch: 2 [12160/60000 (20%)]\t training loss: 0.041942\n",
      "epoch: 2 [12480/60000 (21%)]\t training loss: 0.038102\n",
      "epoch: 2 [12800/60000 (21%)]\t training loss: 0.003558\n",
      "epoch: 2 [13120/60000 (22%)]\t training loss: 0.205805\n",
      "epoch: 2 [13440/60000 (22%)]\t training loss: 0.046123\n",
      "epoch: 2 [13760/60000 (23%)]\t training loss: 0.135949\n",
      "epoch: 2 [14080/60000 (23%)]\t training loss: 0.057964\n",
      "epoch: 2 [14400/60000 (24%)]\t training loss: 0.033045\n",
      "epoch: 2 [14720/60000 (25%)]\t training loss: 0.013047\n",
      "epoch: 2 [15040/60000 (25%)]\t training loss: 0.001923\n",
      "epoch: 2 [15360/60000 (26%)]\t training loss: 0.112447\n",
      "epoch: 2 [15680/60000 (26%)]\t training loss: 0.038495\n",
      "epoch: 2 [16000/60000 (27%)]\t training loss: 0.102339\n",
      "epoch: 2 [16320/60000 (27%)]\t training loss: 0.185167\n",
      "epoch: 2 [16640/60000 (28%)]\t training loss: 0.003389\n",
      "epoch: 2 [16960/60000 (28%)]\t training loss: 0.365109\n",
      "epoch: 2 [17280/60000 (29%)]\t training loss: 0.049910\n",
      "epoch: 2 [17600/60000 (29%)]\t training loss: 0.065224\n",
      "epoch: 2 [17920/60000 (30%)]\t training loss: 0.098357\n",
      "epoch: 2 [18240/60000 (30%)]\t training loss: 0.078216\n",
      "epoch: 2 [18560/60000 (31%)]\t training loss: 0.002125\n",
      "epoch: 2 [18880/60000 (31%)]\t training loss: 0.073460\n",
      "epoch: 2 [19200/60000 (32%)]\t training loss: 0.186167\n",
      "epoch: 2 [19520/60000 (33%)]\t training loss: 0.008914\n",
      "epoch: 2 [19840/60000 (33%)]\t training loss: 0.073733\n",
      "epoch: 2 [20160/60000 (34%)]\t training loss: 0.020736\n",
      "epoch: 2 [20480/60000 (34%)]\t training loss: 0.106579\n",
      "epoch: 2 [20800/60000 (35%)]\t training loss: 0.015066\n",
      "epoch: 2 [21120/60000 (35%)]\t training loss: 0.073016\n",
      "epoch: 2 [21440/60000 (36%)]\t training loss: 0.043400\n",
      "epoch: 2 [21760/60000 (36%)]\t training loss: 0.012781\n",
      "epoch: 2 [22080/60000 (37%)]\t training loss: 0.004932\n",
      "epoch: 2 [22400/60000 (37%)]\t training loss: 0.009016\n",
      "epoch: 2 [22720/60000 (38%)]\t training loss: 0.010336\n",
      "epoch: 2 [23040/60000 (38%)]\t training loss: 0.103836\n",
      "epoch: 2 [23360/60000 (39%)]\t training loss: 0.124408\n",
      "epoch: 2 [23680/60000 (39%)]\t training loss: 0.107035\n",
      "epoch: 2 [24000/60000 (40%)]\t training loss: 0.024357\n",
      "epoch: 2 [24320/60000 (41%)]\t training loss: 0.015323\n",
      "epoch: 2 [24640/60000 (41%)]\t training loss: 0.091224\n",
      "epoch: 2 [24960/60000 (42%)]\t training loss: 0.068350\n",
      "epoch: 2 [25280/60000 (42%)]\t training loss: 0.059853\n",
      "epoch: 2 [25600/60000 (43%)]\t training loss: 0.080846\n",
      "epoch: 2 [25920/60000 (43%)]\t training loss: 0.018008\n",
      "epoch: 2 [26240/60000 (44%)]\t training loss: 0.001473\n",
      "epoch: 2 [26560/60000 (44%)]\t training loss: 0.007095\n",
      "epoch: 2 [26880/60000 (45%)]\t training loss: 0.024927\n",
      "epoch: 2 [27200/60000 (45%)]\t training loss: 0.425291\n",
      "epoch: 2 [27520/60000 (46%)]\t training loss: 0.113739\n",
      "epoch: 2 [27840/60000 (46%)]\t training loss: 0.005028\n",
      "epoch: 2 [28160/60000 (47%)]\t training loss: 0.027707\n",
      "epoch: 2 [28480/60000 (47%)]\t training loss: 0.087359\n",
      "epoch: 2 [28800/60000 (48%)]\t training loss: 0.021594\n",
      "epoch: 2 [29120/60000 (49%)]\t training loss: 0.006442\n",
      "epoch: 2 [29440/60000 (49%)]\t training loss: 0.045517\n",
      "epoch: 2 [29760/60000 (50%)]\t training loss: 0.062463\n",
      "epoch: 2 [30080/60000 (50%)]\t training loss: 0.011377\n",
      "epoch: 2 [30400/60000 (51%)]\t training loss: 0.015032\n",
      "epoch: 2 [30720/60000 (51%)]\t training loss: 0.038544\n",
      "epoch: 2 [31040/60000 (52%)]\t training loss: 0.147174\n",
      "epoch: 2 [31360/60000 (52%)]\t training loss: 0.066676\n",
      "epoch: 2 [31680/60000 (53%)]\t training loss: 0.013725\n",
      "epoch: 2 [32000/60000 (53%)]\t training loss: 0.004604\n",
      "epoch: 2 [32320/60000 (54%)]\t training loss: 0.008130\n",
      "epoch: 2 [32640/60000 (54%)]\t training loss: 0.019349\n",
      "epoch: 2 [32960/60000 (55%)]\t training loss: 0.001430\n",
      "epoch: 2 [33280/60000 (55%)]\t training loss: 0.122713\n",
      "epoch: 2 [33600/60000 (56%)]\t training loss: 0.020397\n",
      "epoch: 2 [33920/60000 (57%)]\t training loss: 0.014344\n",
      "epoch: 2 [34240/60000 (57%)]\t training loss: 0.364059\n",
      "epoch: 2 [34560/60000 (58%)]\t training loss: 0.006218\n",
      "epoch: 2 [34880/60000 (58%)]\t training loss: 0.100582\n",
      "epoch: 2 [35200/60000 (59%)]\t training loss: 0.016615\n",
      "epoch: 2 [35520/60000 (59%)]\t training loss: 0.049406\n",
      "epoch: 2 [35840/60000 (60%)]\t training loss: 0.003566\n",
      "epoch: 2 [36160/60000 (60%)]\t training loss: 0.026887\n",
      "epoch: 2 [36480/60000 (61%)]\t training loss: 0.063328\n",
      "epoch: 2 [36800/60000 (61%)]\t training loss: 0.002134\n",
      "epoch: 2 [37120/60000 (62%)]\t training loss: 0.430648\n"
     ]
    },
    {
     "name": "stdout",
     "output_type": "stream",
     "text": [
      "epoch: 2 [37440/60000 (62%)]\t training loss: 0.004772\n",
      "epoch: 2 [37760/60000 (63%)]\t training loss: 0.067643\n",
      "epoch: 2 [38080/60000 (63%)]\t training loss: 0.014400\n",
      "epoch: 2 [38400/60000 (64%)]\t training loss: 0.029562\n",
      "epoch: 2 [38720/60000 (65%)]\t training loss: 0.091197\n",
      "epoch: 2 [39040/60000 (65%)]\t training loss: 0.013406\n",
      "epoch: 2 [39360/60000 (66%)]\t training loss: 0.004593\n",
      "epoch: 2 [39680/60000 (66%)]\t training loss: 0.168198\n",
      "epoch: 2 [40000/60000 (67%)]\t training loss: 0.011329\n",
      "epoch: 2 [40320/60000 (67%)]\t training loss: 0.245803\n",
      "epoch: 2 [40640/60000 (68%)]\t training loss: 0.528659\n",
      "epoch: 2 [40960/60000 (68%)]\t training loss: 0.044822\n",
      "epoch: 2 [41280/60000 (69%)]\t training loss: 0.083322\n",
      "epoch: 2 [41600/60000 (69%)]\t training loss: 0.153098\n",
      "epoch: 2 [41920/60000 (70%)]\t training loss: 0.009117\n",
      "epoch: 2 [42240/60000 (70%)]\t training loss: 0.011295\n",
      "epoch: 2 [42560/60000 (71%)]\t training loss: 0.046957\n",
      "epoch: 2 [42880/60000 (71%)]\t training loss: 0.005710\n",
      "epoch: 2 [43200/60000 (72%)]\t training loss: 0.001676\n",
      "epoch: 2 [43520/60000 (73%)]\t training loss: 0.046940\n",
      "epoch: 2 [43840/60000 (73%)]\t training loss: 0.260874\n",
      "epoch: 2 [44160/60000 (74%)]\t training loss: 0.129744\n",
      "epoch: 2 [44480/60000 (74%)]\t training loss: 0.009345\n",
      "epoch: 2 [44800/60000 (75%)]\t training loss: 0.004784\n",
      "epoch: 2 [45120/60000 (75%)]\t training loss: 0.060891\n",
      "epoch: 2 [45440/60000 (76%)]\t training loss: 0.061104\n",
      "epoch: 2 [45760/60000 (76%)]\t training loss: 0.020632\n",
      "epoch: 2 [46080/60000 (77%)]\t training loss: 0.083816\n",
      "epoch: 2 [46400/60000 (77%)]\t training loss: 0.042209\n",
      "epoch: 2 [46720/60000 (78%)]\t training loss: 0.136387\n",
      "epoch: 2 [47040/60000 (78%)]\t training loss: 0.026391\n",
      "epoch: 2 [47360/60000 (79%)]\t training loss: 0.043673\n",
      "epoch: 2 [47680/60000 (79%)]\t training loss: 0.024578\n",
      "epoch: 2 [48000/60000 (80%)]\t training loss: 0.070994\n",
      "epoch: 2 [48320/60000 (81%)]\t training loss: 0.221534\n",
      "epoch: 2 [48640/60000 (81%)]\t training loss: 0.063217\n",
      "epoch: 2 [48960/60000 (82%)]\t training loss: 0.008979\n",
      "epoch: 2 [49280/60000 (82%)]\t training loss: 0.002270\n",
      "epoch: 2 [49600/60000 (83%)]\t training loss: 0.011848\n",
      "epoch: 2 [49920/60000 (83%)]\t training loss: 0.112140\n",
      "epoch: 2 [50240/60000 (84%)]\t training loss: 0.016166\n",
      "epoch: 2 [50560/60000 (84%)]\t training loss: 0.003836\n",
      "epoch: 2 [50880/60000 (85%)]\t training loss: 0.003403\n",
      "epoch: 2 [51200/60000 (85%)]\t training loss: 0.033328\n",
      "epoch: 2 [51520/60000 (86%)]\t training loss: 0.188970\n",
      "epoch: 2 [51840/60000 (86%)]\t training loss: 0.008271\n",
      "epoch: 2 [52160/60000 (87%)]\t training loss: 0.004005\n",
      "epoch: 2 [52480/60000 (87%)]\t training loss: 0.134851\n",
      "epoch: 2 [52800/60000 (88%)]\t training loss: 0.030210\n",
      "epoch: 2 [53120/60000 (89%)]\t training loss: 0.003869\n",
      "epoch: 2 [53440/60000 (89%)]\t training loss: 0.136203\n",
      "epoch: 2 [53760/60000 (90%)]\t training loss: 0.209959\n",
      "epoch: 2 [54080/60000 (90%)]\t training loss: 0.003821\n",
      "epoch: 2 [54400/60000 (91%)]\t training loss: 0.423098\n",
      "epoch: 2 [54720/60000 (91%)]\t training loss: 0.145483\n",
      "epoch: 2 [55040/60000 (92%)]\t training loss: 0.032753\n",
      "epoch: 2 [55360/60000 (92%)]\t training loss: 0.091253\n",
      "epoch: 2 [55680/60000 (93%)]\t training loss: 0.008338\n",
      "epoch: 2 [56000/60000 (93%)]\t training loss: 0.038908\n",
      "epoch: 2 [56320/60000 (94%)]\t training loss: 0.001388\n",
      "epoch: 2 [56640/60000 (94%)]\t training loss: 0.070186\n",
      "epoch: 2 [56960/60000 (95%)]\t training loss: 0.014708\n",
      "epoch: 2 [57280/60000 (95%)]\t training loss: 0.019372\n",
      "epoch: 2 [57600/60000 (96%)]\t training loss: 0.054575\n",
      "epoch: 2 [57920/60000 (97%)]\t training loss: 0.126219\n",
      "epoch: 2 [58240/60000 (97%)]\t training loss: 0.055399\n",
      "epoch: 2 [58560/60000 (98%)]\t training loss: 0.007698\n",
      "epoch: 2 [58880/60000 (98%)]\t training loss: 0.002685\n",
      "epoch: 2 [59200/60000 (99%)]\t training loss: 0.016287\n",
      "epoch: 2 [59520/60000 (99%)]\t training loss: 0.012645\n",
      "epoch: 2 [59840/60000 (100%)]\t training loss: 0.007993\n",
      "\n",
      "Test dataset: Overall Loss: 0.0416, Overall Accuracy: 9864/10000 (99%)\n",
      "\n"
     ]
    }
   ],
   "source": [
    "for epoch in range(1, 3):\n",
    "    train(model, device, train_dataloader, optimizer, epoch)\n",
    "    test(model, device, test_dataloader)"
   ]
  },
  {
   "cell_type": "markdown",
   "metadata": {},
   "source": [
    "## run inference on trained model"
   ]
  },
  {
   "cell_type": "code",
   "execution_count": 8,
   "metadata": {
    "scrolled": true
   },
   "outputs": [
    {
     "data": {
      "image/png": "[encoded data removed]",
      "text/plain": [
       "<Figure size 640x480 with 1 Axes>"
      ]
     },
     "metadata": {},
     "output_type": "display_data"
    }
   ],
   "source": [
    "test_samples = enumerate(test_dataloader)\n",
    "b_i, (sample_data, sample_targets) = next(test_samples)\n",
    "\n",
    "plt.imshow(sample_data[0][0], cmap='gray', interpolation='none')\n",
    "plt.show()"
   ]
  },
  {
   "cell_type": "code",
   "execution_count": 9,
   "metadata": {},
   "outputs": [
    {
     "name": "stdout",
     "output_type": "stream",
     "text": [
      "Model prediction is : 7\n",
      "Ground truth is : 7\n"
     ]
    }
   ],
   "source": [
    "print(f\"Model prediction is : {model(sample_data).data.max(1)[1][0]}\")\n",
    "print(f\"Ground truth is : {sample_targets[0]}\")"
   ]
  },
  {
   "cell_type": "markdown",
   "metadata": {},
   "source": [
    "# PROFILING STARTS HERE"
   ]
  },
  {
   "cell_type": "code",
   "execution_count": 61,
   "metadata": {},
   "outputs": [
    {
     "name": "stdout",
     "output_type": "stream",
     "text": [
      "ConvNet(\n",
      "  (cn1): Conv2d(1, 16, kernel_size=(3, 3), stride=(1, 1))\n",
      "  (cn2): Conv2d(16, 32, kernel_size=(3, 3), stride=(1, 1))\n",
      "  (dp1): Dropout2d(p=0.1, inplace=False)\n",
      "  (dp2): Dropout2d(p=0.25, inplace=False)\n",
      "  (fc1): Linear(in_features=4608, out_features=64, bias=True)\n",
      "  (fc2): Linear(in_features=64, out_features=10, bias=True)\n",
      ")\n"
     ]
    }
   ],
   "source": [
    "print(model)"
   ]
  },
  {
   "cell_type": "code",
   "execution_count": 69,
   "metadata": {},
   "outputs": [
    {
     "name": "stdout",
     "output_type": "stream",
     "text": [
      "torch.Size([500, 1, 28, 28])\n"
     ]
    }
   ],
   "source": [
    "print(sample_data.shape)"
   ]
  },
  {
   "cell_type": "markdown",
   "metadata": {},
   "source": [
    "## profile model inference on cpu"
   ]
  },
  {
   "cell_type": "markdown",
   "metadata": {},
   "source": [
    "### cpu time"
   ]
  },
  {
   "cell_type": "markdown",
   "metadata": {},
   "source": [
    "##### expand notebook to visualise traces properly"
   ]
  },
  {
   "cell_type": "code",
   "execution_count": 45,
   "metadata": {},
   "outputs": [
    {
     "data": {
      "text/html": [
       "<style>.container { width:100% !important; }</style>"
      ],
      "text/plain": [
       "<IPython.core.display.HTML object>"
      ]
     },
     "metadata": {},
     "output_type": "display_data"
    }
   ],
   "source": [
    "from IPython.display import display, HTML\n",
    "display(HTML(\"<style>.container { width:100% !important; }</style>\"))"
   ]
  },
  {
   "cell_type": "code",
   "execution_count": 10,
   "metadata": {},
   "outputs": [],
   "source": [
    "from torch.profiler import profile, record_function, ProfilerActivity"
   ]
  },
  {
   "cell_type": "code",
   "execution_count": 70,
   "metadata": {},
   "outputs": [],
   "source": [
    "with profile(activities=[ProfilerActivity.CPU], record_shapes=True) as prof:\n",
    "    with record_function(\"model_inference\"):\n",
    "        model(sample_data)"
   ]
  },
  {
   "cell_type": "code",
   "execution_count": 73,
   "metadata": {
    "scrolled": false
   },
   "outputs": [
    {
     "name": "stdout",
     "output_type": "stream",
     "text": [
      "---------------------------------  ------------  ------------  ------------  ------------  ------------  ------------  \n",
      "                             Name    Self CPU %      Self CPU   CPU total %     CPU total  CPU time avg    # of Calls  \n",
      "---------------------------------  ------------  ------------  ------------  ------------  ------------  ------------  \n",
      "                  model_inference         6.06%       6.256ms        99.99%     103.238ms     103.238ms             1  \n",
      "                     aten::conv2d         0.01%       8.000us        45.74%      47.229ms      23.614ms             2  \n",
      "                aten::convolution         0.03%      31.000us        45.73%      47.221ms      23.610ms             2  \n",
      "               aten::_convolution         0.02%      17.000us        45.70%      47.190ms      23.595ms             2  \n",
      "         aten::mkldnn_convolution        45.67%      47.160ms        45.69%      47.173ms      23.587ms             2  \n",
      "                 aten::max_pool2d         0.00%       5.000us        36.06%      37.232ms      37.232ms             1  \n",
      "    aten::max_pool2d_with_indices        36.05%      37.227ms        36.05%      37.227ms      37.227ms             1  \n",
      "                       aten::relu         0.04%      39.000us         8.57%       8.850ms       2.950ms             3  \n",
      "                  aten::clamp_min         8.53%       8.811ms         8.53%       8.811ms       2.937ms             3  \n",
      "                     aten::linear         0.01%       6.000us         3.49%       3.603ms       1.802ms             2  \n",
      "                      aten::addmm         3.44%       3.557ms         3.47%       3.580ms       1.790ms             2  \n",
      "                aten::log_softmax         0.00%       1.000us         0.05%      54.000us      54.000us             1  \n",
      "               aten::_log_softmax         0.05%      53.000us         0.05%      53.000us      53.000us             1  \n",
      "                      aten::copy_         0.02%      20.000us         0.02%      20.000us      10.000us             2  \n",
      "                      aten::empty         0.02%      17.000us         0.02%      17.000us       2.833us             6  \n",
      "                          aten::t         0.01%      10.000us         0.02%      17.000us       8.500us             2  \n",
      "                      aten::zeros         0.01%       9.000us         0.01%      15.000us      15.000us             1  \n",
      "                    aten::flatten         0.00%       4.000us         0.01%      12.000us      12.000us             1  \n",
      "             aten::_reshape_alias         0.01%       8.000us         0.01%       8.000us       8.000us             1  \n",
      "                  aten::transpose         0.00%       4.000us         0.01%       7.000us       3.500us             2  \n",
      "                aten::as_strided_         0.00%       4.000us         0.00%       4.000us       2.000us             2  \n",
      "                 aten::as_strided         0.00%       4.000us         0.00%       4.000us       1.000us             4  \n",
      "                     aten::expand         0.00%       2.000us         0.00%       3.000us       1.500us             2  \n",
      "                      aten::zero_         0.00%       0.000us         0.00%       0.000us       0.000us             1  \n",
      "            aten::feature_dropout         0.00%       0.000us         0.00%       0.000us       0.000us             2  \n",
      "               aten::resolve_conj         0.00%       0.000us         0.00%       0.000us       0.000us             4  \n",
      "---------------------------------  ------------  ------------  ------------  ------------  ------------  ------------  \n",
      "Self CPU time total: 103.253ms\n",
      "\n"
     ]
    }
   ],
   "source": [
    "print(prof.key_averages().table(sort_by=\"cpu_time_total\"))"
   ]
  },
  {
   "cell_type": "code",
   "execution_count": 75,
   "metadata": {},
   "outputs": [
    {
     "name": "stdout",
     "output_type": "stream",
     "text": [
      "---------------------------------  ------------  ------------  ------------  ------------  ------------  ------------  --------------------------------------------------------------------------------  \n",
      "                             Name    Self CPU %      Self CPU   CPU total %     CPU total  CPU time avg    # of Calls                                                                      Input Shapes  \n",
      "---------------------------------  ------------  ------------  ------------  ------------  ------------  ------------  --------------------------------------------------------------------------------  \n",
      "                  model_inference         6.06%       6.256ms        99.99%     103.238ms     103.238ms             1                                                                                []  \n",
      "                     aten::conv2d         0.00%       4.000us        39.62%      40.910ms      40.910ms             1                         [[500, 16, 26, 26], [32, 16, 3, 3], [32], [], [], [], []]  \n",
      "                aten::convolution         0.01%      13.000us        39.62%      40.906ms      40.906ms             1                 [[500, 16, 26, 26], [32, 16, 3, 3], [32], [], [], [], [], [], []]  \n",
      "               aten::_convolution         0.01%      10.000us        39.60%      40.893ms      40.893ms             1  [[500, 16, 26, 26], [32, 16, 3, 3], [32], [], [], [], [], [], [], [], [], [], []  \n",
      "         aten::mkldnn_convolution        39.59%      40.875ms        39.59%      40.883ms      40.883ms             1                         [[500, 16, 26, 26], [32, 16, 3, 3], [32], [], [], [], []]  \n",
      "                 aten::max_pool2d         0.00%       5.000us        36.06%      37.232ms      37.232ms             1                                           [[500, 32, 24, 24], [], [], [], [], []]  \n",
      "    aten::max_pool2d_with_indices        36.05%      37.227ms        36.05%      37.227ms      37.227ms             1                                           [[500, 32, 24, 24], [], [], [], [], []]  \n",
      "                     aten::conv2d         0.00%       4.000us         6.12%       6.319ms       6.319ms             1                           [[500, 1, 28, 28], [16, 1, 3, 3], [16], [], [], [], []]  \n",
      "                aten::convolution         0.02%      18.000us         6.12%       6.315ms       6.315ms             1                   [[500, 1, 28, 28], [16, 1, 3, 3], [16], [], [], [], [], [], []]  \n",
      "               aten::_convolution         0.01%       7.000us         6.10%       6.297ms       6.297ms             1   [[500, 1, 28, 28], [16, 1, 3, 3], [16], [], [], [], [], [], [], [], [], [], []]  \n",
      "         aten::mkldnn_convolution         6.09%       6.285ms         6.09%       6.290ms       6.290ms             1                           [[500, 1, 28, 28], [16, 1, 3, 3], [16], [], [], [], []]  \n",
      "                       aten::relu         0.02%      16.000us         5.82%       6.014ms       6.014ms             1                                                               [[500, 32, 24, 24]]  \n",
      "                  aten::clamp_min         5.81%       5.998ms         5.81%       5.998ms       5.998ms             1                                                           [[500, 32, 24, 24], []]  \n",
      "                     aten::linear         0.00%       5.000us         3.45%       3.558ms       3.558ms             1                                                   [[500, 4608], [64, 4608], [64]]  \n",
      "                      aten::addmm         3.42%       3.528ms         3.43%       3.544ms       3.544ms             1                                           [[64], [500, 4608], [4608, 64], [], []]  \n",
      "                       aten::relu         0.02%      16.000us         2.73%       2.815ms       2.815ms             1                                                               [[500, 16, 26, 26]]  \n",
      "                  aten::clamp_min         2.71%       2.799ms         2.71%       2.799ms       2.799ms             1                                                           [[500, 16, 26, 26], []]  \n",
      "                aten::log_softmax         0.00%       1.000us         0.05%      54.000us      54.000us             1                                                               [[500, 10], [], []]  \n",
      "               aten::_log_softmax         0.05%      53.000us         0.05%      53.000us      53.000us             1                                                               [[500, 10], [], []]  \n",
      "                     aten::linear         0.00%       1.000us         0.04%      45.000us      45.000us             1                                                       [[500, 64], [10, 64], [10]]  \n",
      "                      aten::addmm         0.03%      29.000us         0.03%      36.000us      36.000us             1                                               [[10], [500, 64], [64, 10], [], []]  \n",
      "                       aten::relu         0.01%       7.000us         0.02%      21.000us      21.000us             1                                                                       [[500, 64]]  \n",
      "                      aten::empty         0.02%      17.000us         0.02%      17.000us       2.833us             6                                                          [[], [], [], [], [], []]  \n",
      "                      aten::zeros         0.01%       9.000us         0.01%      15.000us      15.000us             1                                                              [[], [], [], [], []]  \n",
      "                      aten::copy_         0.01%      14.000us         0.01%      14.000us      14.000us             1                                                        [[500, 64], [500, 64], []]  \n",
      "                  aten::clamp_min         0.01%      14.000us         0.01%      14.000us      14.000us             1                                                                   [[500, 64], []]  \n",
      "                    aten::flatten         0.00%       4.000us         0.01%      12.000us      12.000us             1                                                       [[500, 32, 12, 12], [], []]  \n",
      "                          aten::t         0.00%       5.000us         0.01%       9.000us       9.000us             1                                                                      [[64, 4608]]  \n",
      "             aten::_reshape_alias         0.01%       8.000us         0.01%       8.000us       8.000us             1                                                       [[500, 32, 12, 12], [], []]  \n",
      "                          aten::t         0.00%       5.000us         0.01%       8.000us       8.000us             1                                                                        [[10, 64]]  \n",
      "                      aten::copy_         0.01%       6.000us         0.01%       6.000us       6.000us             1                                                        [[500, 10], [500, 10], []]  \n",
      "                  aten::transpose         0.00%       2.000us         0.00%       4.000us       4.000us             1                                                              [[64, 4608], [], []]  \n",
      "                  aten::transpose         0.00%       2.000us         0.00%       3.000us       3.000us             1                                                                [[10, 64], [], []]  \n",
      "                aten::as_strided_         0.00%       2.000us         0.00%       2.000us       2.000us             1                                                   [[500, 16, 26, 26], [], [], []]  \n",
      "                aten::as_strided_         0.00%       2.000us         0.00%       2.000us       2.000us             1                                                   [[500, 32, 24, 24], [], [], []]  \n",
      "                 aten::as_strided         0.00%       2.000us         0.00%       2.000us       2.000us             1                                                          [[64, 4608], [], [], []]  \n",
      "                     aten::expand         0.00%       1.000us         0.00%       2.000us       2.000us             1                                                                    [[64], [], []]  \n",
      "                 aten::as_strided         0.00%       1.000us         0.00%       1.000us       1.000us             1                                                                [[64], [], [], []]  \n",
      "                 aten::as_strided         0.00%       1.000us         0.00%       1.000us       1.000us             1                                                            [[10, 64], [], [], []]  \n",
      "                     aten::expand         0.00%       1.000us         0.00%       1.000us       1.000us             1                                                                    [[10], [], []]  \n",
      "                      aten::zero_         0.00%       0.000us         0.00%       0.000us       0.000us             1                                                                             [[1]]  \n",
      "            aten::feature_dropout         0.00%       0.000us         0.00%       0.000us       0.000us             1                                                       [[500, 32, 12, 12], [], []]  \n",
      "               aten::resolve_conj         0.00%       0.000us         0.00%       0.000us       0.000us             2                                                                       [[500, 64]]  \n",
      "               aten::resolve_conj         0.00%       0.000us         0.00%       0.000us       0.000us             1                                                                     [[500, 4608]]  \n",
      "            aten::feature_dropout         0.00%       0.000us         0.00%       0.000us       0.000us             1                                                               [[500, 64], [], []]  \n",
      "                 aten::as_strided         0.00%       0.000us         0.00%       0.000us       0.000us             1                                                                [[10], [], [], []]  \n",
      "               aten::resolve_conj         0.00%       0.000us         0.00%       0.000us       0.000us             1                                                                       [[500, 10]]  \n",
      "---------------------------------  ------------  ------------  ------------  ------------  ------------  ------------  --------------------------------------------------------------------------------  \n",
      "Self CPU time total: 103.253ms\n",
      "\n"
     ]
    }
   ],
   "source": [
    "print(prof.key_averages(group_by_input_shape=True).table(sort_by=\"cpu_time_total\"))"
   ]
  },
  {
   "cell_type": "markdown",
   "metadata": {},
   "source": [
    "### cpu memory"
   ]
  },
  {
   "cell_type": "code",
   "execution_count": 78,
   "metadata": {},
   "outputs": [
    {
     "name": "stdout",
     "output_type": "stream",
     "text": [
      "---------------------------------  ------------  ------------  ------------  ------------  ------------  ------------  ------------  ------------  \n",
      "                             Name    Self CPU %      Self CPU   CPU total %     CPU total  CPU time avg       CPU Mem  Self CPU Mem    # of Calls  \n",
      "---------------------------------  ------------  ------------  ------------  ------------  ------------  ------------  ------------  ------------  \n",
      "                       aten::relu         0.04%      37.000us         8.04%       8.232ms       2.744ms      55.91 Mb           0 b             3  \n",
      "                  aten::clamp_min         8.01%       8.195ms         8.01%       8.195ms       2.732ms      55.91 Mb      55.91 Mb             3  \n",
      "                     aten::conv2d         0.01%       8.000us        51.31%      52.507ms      26.253ms      55.79 Mb           0 b             2  \n",
      "                aten::convolution         0.04%      37.000us        51.30%      52.499ms      26.250ms      55.79 Mb           0 b             2  \n",
      "               aten::_convolution         0.02%      17.000us        51.27%      52.462ms      26.231ms      55.79 Mb           0 b             2  \n",
      "         aten::mkldnn_convolution        51.24%      52.429ms        51.25%      52.445ms      26.223ms      55.79 Mb           0 b             2  \n",
      "                      aten::empty         0.01%      14.000us         0.01%      14.000us       3.500us      55.79 Mb      55.79 Mb             4  \n",
      "                 aten::max_pool2d         0.01%       6.000us        37.07%      37.937ms      37.937ms      26.37 Mb           0 b             1  \n",
      "    aten::max_pool2d_with_indices        37.07%      37.931ms        37.07%      37.931ms      37.931ms      26.37 Mb      26.37 Mb             1  \n",
      "                     aten::linear         0.01%       7.000us         3.50%       3.580ms       1.790ms     144.53 Kb           0 b             2  \n",
      "                      aten::addmm         3.45%       3.534ms         3.48%       3.557ms       1.778ms     144.53 Kb     144.53 Kb             2  \n",
      "                aten::log_softmax         0.00%       2.000us         0.06%      57.000us      57.000us      19.53 Kb           0 b             1  \n",
      "               aten::_log_softmax         0.05%      55.000us         0.05%      55.000us      55.000us      19.53 Kb      19.53 Kb             1  \n",
      "                aten::as_strided_         0.00%       2.000us         0.00%       2.000us       1.000us           0 b           0 b             2  \n",
      "            aten::feature_dropout         0.00%       2.000us         0.00%       2.000us       1.000us           0 b           0 b             2  \n",
      "                    aten::flatten         0.00%       5.000us         0.01%      14.000us      14.000us           0 b           0 b             1  \n",
      "             aten::_reshape_alias         0.01%       9.000us         0.01%       9.000us       9.000us           0 b           0 b             1  \n",
      "                          aten::t         0.01%      10.000us         0.02%      16.000us       8.000us           0 b           0 b             2  \n",
      "                  aten::transpose         0.00%       3.000us         0.01%       6.000us       3.000us           0 b           0 b             2  \n",
      "                 aten::as_strided         0.00%       4.000us         0.00%       4.000us       1.000us           0 b           0 b             4  \n",
      "                     aten::expand         0.00%       2.000us         0.00%       3.000us       1.500us           0 b           0 b             2  \n",
      "                      aten::copy_         0.02%      20.000us         0.02%      20.000us      10.000us           0 b           0 b             2  \n",
      "               aten::resolve_conj         0.00%       0.000us         0.00%       0.000us       0.000us           0 b           0 b             4  \n",
      "                         [memory]         0.00%       0.000us         0.00%       0.000us       0.000us    -138.22 Mb    -138.22 Mb            10  \n",
      "---------------------------------  ------------  ------------  ------------  ------------  ------------  ------------  ------------  ------------  \n",
      "Self CPU time total: 102.329ms\n",
      "\n"
     ]
    }
   ],
   "source": [
    "with profile(activities=[ProfilerActivity.CPU],\n",
    "        profile_memory=True, record_shapes=True) as prof:\n",
    "    model(sample_data)\n",
    "\n",
    "print(prof.key_averages().table(sort_by=\"cpu_memory_usage\"))"
   ]
  },
  {
   "cell_type": "markdown",
   "metadata": {},
   "source": [
    "### gpu time"
   ]
  },
  {
   "cell_type": "code",
   "execution_count": 80,
   "metadata": {},
   "outputs": [
    {
     "name": "stdout",
     "output_type": "stream",
     "text": [
      "---------------------------------  ------------  ------------  ------------  ------------  ------------  ------------  \n",
      "                             Name    Self CPU %      Self CPU   CPU total %     CPU total  CPU time avg    # of Calls  \n",
      "---------------------------------  ------------  ------------  ------------  ------------  ------------  ------------  \n",
      "                      aten::zeros         0.04%      69.000us         0.07%     117.000us     117.000us             1  \n",
      "                      aten::empty         0.07%     112.000us         0.07%     112.000us      18.667us             6  \n",
      "                      aten::zero_         0.00%       1.000us         0.00%       1.000us       1.000us             1  \n",
      "                  model_inference         5.20%       8.829ms        99.93%     169.727ms     169.727ms             1  \n",
      "                     aten::conv2d         0.01%      22.000us        60.81%     103.277ms      51.639ms             2  \n",
      "                aten::convolution         0.08%     128.000us        60.79%     103.255ms      51.627ms             2  \n",
      "               aten::_convolution         0.04%      66.000us        60.72%     103.127ms      51.563ms             2  \n",
      "         aten::mkldnn_convolution        60.65%     103.004ms        60.68%     103.061ms      51.531ms             2  \n",
      "                aten::as_strided_         0.00%       3.000us         0.00%       3.000us       1.500us             2  \n",
      "                       aten::relu         0.03%      45.000us         5.46%       9.271ms       3.090ms             3  \n",
      "                  aten::clamp_min         5.43%       9.226ms         5.43%       9.226ms       3.075ms             3  \n",
      "                 aten::max_pool2d         0.01%      17.000us        25.51%      43.332ms      43.332ms             1  \n",
      "    aten::max_pool2d_with_indices        25.50%      43.315ms        25.50%      43.315ms      43.315ms             1  \n",
      "            aten::feature_dropout         0.00%       0.000us         0.00%       0.000us       0.000us             2  \n",
      "                    aten::flatten         0.01%      12.000us         0.01%      20.000us      20.000us             1  \n",
      "             aten::_reshape_alias         0.00%       8.000us         0.00%       8.000us       8.000us             1  \n",
      "                     aten::linear         0.01%      25.000us         2.90%       4.917ms       2.458ms             2  \n",
      "                          aten::t         0.02%      41.000us         0.03%      54.000us      27.000us             2  \n",
      "                  aten::transpose         0.00%       8.000us         0.01%      13.000us       6.500us             2  \n",
      "                 aten::as_strided         0.00%       6.000us         0.00%       6.000us       1.500us             4  \n",
      "                      aten::addmm         2.80%       4.763ms         2.85%       4.838ms       2.419ms             2  \n",
      "                     aten::expand         0.00%       2.000us         0.00%       3.000us       1.500us             2  \n",
      "                      aten::copy_         0.04%      72.000us         0.04%      72.000us      36.000us             2  \n",
      "               aten::resolve_conj         0.00%       0.000us         0.00%       0.000us       0.000us             4  \n",
      "                aten::log_softmax         0.00%       8.000us         0.04%      70.000us      70.000us             1  \n",
      "               aten::_log_softmax         0.04%      62.000us         0.04%      62.000us      62.000us             1  \n",
      "---------------------------------  ------------  ------------  ------------  ------------  ------------  ------------  \n",
      "Self CPU time total: 169.844ms\n",
      "\n"
     ]
    }
   ],
   "source": [
    "model=model.cuda()\n",
    "sample_data=sample_data.cuda()\n",
    "with profile(activities=[\n",
    "        ProfilerActivity.CPU, ProfilerActivity.CUDA], record_shapes=True) as prof:\n",
    "    with record_function(\"model_inference\"):\n",
    "        model(sample_data)\n",
    "\n",
    "print(prof.key_averages().table(sort_by=\"cuda_time_total\"))"
   ]
  },
  {
   "cell_type": "markdown",
   "metadata": {},
   "source": [
    "## tracing"
   ]
  },
  {
   "cell_type": "code",
   "execution_count": 17,
   "metadata": {},
   "outputs": [],
   "source": [
    "with profile(activities=[ProfilerActivity.CPU, ProfilerActivity.CUDA]) as prof:\n",
    "    model(sample_data)\n",
    "\n",
    "prof.export_chrome_trace(\"trace.json\")"
   ]
  }
 ],
 "metadata": {
  "kernelspec": {
   "display_name": "Python 3 (ipykernel)",
   "language": "python",
   "name": "python3"
  },
  "language_info": {
   "codemirror_mode": {
    "name": "ipython",
    "version": 3
   },
   "file_extension": ".py",
   "mimetype": "text/x-python",
   "name": "python",
   "nbconvert_exporter": "python",
   "pygments_lexer": "ipython3",
   "version": "3.9.16"
  }
 },
 "nbformat": 4,
 "nbformat_minor": 4
}
