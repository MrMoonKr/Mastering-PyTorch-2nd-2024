{
 "cells": [
  {
   "cell_type": "code",
   "execution_count": 1,
   "metadata": {
    "scrolled": false
   },
   "outputs": [
    {
     "name": "stdout",
     "output_type": "stream",
     "text": [
      "Collecting torch==1.12.\n",
      "  Using cached torch-1.12.0-cp37-none-macosx_10_9_x86_64.whl (137.5 MB)\n",
      "Requirement already satisfied: typing-extensions in /Users/ashish.jha/opt/anaconda3/envs/sentinel/lib/python3.7/site-packages (from torch==1.12.) (4.4.0)\n",
      "Installing collected packages: torch\n",
      "  Attempting uninstall: torch\n",
      "    Found existing installation: torch 1.7.0\n",
      "    Uninstalling torch-1.7.0:\n",
      "      Successfully uninstalled torch-1.7.0\n",
      "\u001b[31mERROR: pip's dependency resolver does not currently take into account all the packages that are installed. This behaviour is the source of the following dependency conflicts.\n",
      "torchvision 0.8.0 requires torch==1.7.0, but you have torch 1.12.0 which is incompatible.\u001b[0m\u001b[31m\n",
      "\u001b[0mSuccessfully installed torch-1.12.0\n",
      "Collecting torchvision==0.13.1\n",
      "  Using cached torchvision-0.13.1-cp37-cp37m-macosx_10_9_x86_64.whl (1.3 MB)\n",
      "Collecting torch==1.12.1\n",
      "  Using cached torch-1.12.1-cp37-none-macosx_10_9_x86_64.whl (137.7 MB)\n",
      "Requirement already satisfied: numpy in /Users/ashish.jha/opt/anaconda3/envs/sentinel/lib/python3.7/site-packages (from torchvision==0.13.1) (1.21.6)\n",
      "Requirement already satisfied: typing-extensions in /Users/ashish.jha/opt/anaconda3/envs/sentinel/lib/python3.7/site-packages (from torchvision==0.13.1) (4.4.0)\n",
      "Requirement already satisfied: requests in /Users/ashish.jha/opt/anaconda3/envs/sentinel/lib/python3.7/site-packages (from torchvision==0.13.1) (2.28.1)\n",
      "Requirement already satisfied: pillow!=8.3.*,>=5.3.0 in /Users/ashish.jha/opt/anaconda3/envs/sentinel/lib/python3.7/site-packages (from torchvision==0.13.1) (9.3.0)\n",
      "Requirement already satisfied: certifi>=2017.4.17 in /Users/ashish.jha/opt/anaconda3/envs/sentinel/lib/python3.7/site-packages (from requests->torchvision==0.13.1) (2022.9.24)\n",
      "Requirement already satisfied: charset-normalizer<3,>=2 in /Users/ashish.jha/opt/anaconda3/envs/sentinel/lib/python3.7/site-packages (from requests->torchvision==0.13.1) (2.1.1)\n",
      "Requirement already satisfied: idna<4,>=2.5 in /Users/ashish.jha/opt/anaconda3/envs/sentinel/lib/python3.7/site-packages (from requests->torchvision==0.13.1) (3.4)\n",
      "Requirement already satisfied: urllib3<1.27,>=1.21.1 in /Users/ashish.jha/opt/anaconda3/envs/sentinel/lib/python3.7/site-packages (from requests->torchvision==0.13.1) (1.26.12)\n",
      "Installing collected packages: torch, torchvision\n",
      "  Attempting uninstall: torch\n",
      "    Found existing installation: torch 1.12.0\n",
      "    Uninstalling torch-1.12.0:\n",
      "      Successfully uninstalled torch-1.12.0\n",
      "  Attempting uninstall: torchvision\n",
      "    Found existing installation: torchvision 0.8.0\n",
      "    Uninstalling torchvision-0.8.0:\n",
      "      Successfully uninstalled torchvision-0.8.0\n",
      "Successfully installed torch-1.12.1 torchvision-0.13.1\n",
      "Requirement already satisfied: tensorflow==1.15.0 in /Users/ashish.jha/opt/anaconda3/envs/sentinel/lib/python3.7/site-packages (1.15.0)\n",
      "Requirement already satisfied: gast==0.2.2 in /Users/ashish.jha/opt/anaconda3/envs/sentinel/lib/python3.7/site-packages (from tensorflow==1.15.0) (0.2.2)\n",
      "Requirement already satisfied: keras-applications>=1.0.8 in /Users/ashish.jha/opt/anaconda3/envs/sentinel/lib/python3.7/site-packages (from tensorflow==1.15.0) (1.0.8)\n",
      "Requirement already satisfied: numpy<2.0,>=1.16.0 in /Users/ashish.jha/opt/anaconda3/envs/sentinel/lib/python3.7/site-packages (from tensorflow==1.15.0) (1.21.6)\n",
      "Requirement already satisfied: google-pasta>=0.1.6 in /Users/ashish.jha/opt/anaconda3/envs/sentinel/lib/python3.7/site-packages (from tensorflow==1.15.0) (0.2.0)\n",
      "Requirement already satisfied: opt-einsum>=2.3.2 in /Users/ashish.jha/opt/anaconda3/envs/sentinel/lib/python3.7/site-packages (from tensorflow==1.15.0) (3.3.0)\n",
      "Requirement already satisfied: tensorboard<1.16.0,>=1.15.0 in /Users/ashish.jha/opt/anaconda3/envs/sentinel/lib/python3.7/site-packages (from tensorflow==1.15.0) (1.15.0)\n",
      "Requirement already satisfied: wheel>=0.26 in /Users/ashish.jha/opt/anaconda3/envs/sentinel/lib/python3.7/site-packages (from tensorflow==1.15.0) (0.37.1)\n",
      "Requirement already satisfied: keras-preprocessing>=1.0.5 in /Users/ashish.jha/opt/anaconda3/envs/sentinel/lib/python3.7/site-packages (from tensorflow==1.15.0) (1.1.2)\n",
      "Requirement already satisfied: tensorflow-estimator==1.15.1 in /Users/ashish.jha/opt/anaconda3/envs/sentinel/lib/python3.7/site-packages (from tensorflow==1.15.0) (1.15.1)\n",
      "Requirement already satisfied: termcolor>=1.1.0 in /Users/ashish.jha/opt/anaconda3/envs/sentinel/lib/python3.7/site-packages (from tensorflow==1.15.0) (2.1.0)\n",
      "Requirement already satisfied: grpcio>=1.8.6 in /Users/ashish.jha/opt/anaconda3/envs/sentinel/lib/python3.7/site-packages (from tensorflow==1.15.0) (1.50.0)\n",
      "Requirement already satisfied: astor>=0.6.0 in /Users/ashish.jha/opt/anaconda3/envs/sentinel/lib/python3.7/site-packages (from tensorflow==1.15.0) (0.8.1)\n",
      "Requirement already satisfied: absl-py>=0.7.0 in /Users/ashish.jha/opt/anaconda3/envs/sentinel/lib/python3.7/site-packages (from tensorflow==1.15.0) (1.3.0)\n",
      "Requirement already satisfied: wrapt>=1.11.1 in /Users/ashish.jha/opt/anaconda3/envs/sentinel/lib/python3.7/site-packages (from tensorflow==1.15.0) (1.14.1)\n",
      "Requirement already satisfied: protobuf>=3.6.1 in /Users/ashish.jha/opt/anaconda3/envs/sentinel/lib/python3.7/site-packages (from tensorflow==1.15.0) (3.20.1)\n",
      "Requirement already satisfied: six>=1.10.0 in /Users/ashish.jha/opt/anaconda3/envs/sentinel/lib/python3.7/site-packages (from tensorflow==1.15.0) (1.16.0)\n",
      "Requirement already satisfied: h5py in /Users/ashish.jha/opt/anaconda3/envs/sentinel/lib/python3.7/site-packages (from keras-applications>=1.0.8->tensorflow==1.15.0) (3.7.0)\n",
      "Requirement already satisfied: setuptools>=41.0.0 in /Users/ashish.jha/opt/anaconda3/envs/sentinel/lib/python3.7/site-packages (from tensorboard<1.16.0,>=1.15.0->tensorflow==1.15.0) (65.4.0)\n",
      "Requirement already satisfied: markdown>=2.6.8 in /Users/ashish.jha/opt/anaconda3/envs/sentinel/lib/python3.7/site-packages (from tensorboard<1.16.0,>=1.15.0->tensorflow==1.15.0) (3.4.1)\n",
      "Requirement already satisfied: werkzeug>=0.11.15 in /Users/ashish.jha/opt/anaconda3/envs/sentinel/lib/python3.7/site-packages (from tensorboard<1.16.0,>=1.15.0->tensorflow==1.15.0) (2.2.2)\n",
      "Requirement already satisfied: importlib-metadata>=4.4 in /Users/ashish.jha/opt/anaconda3/envs/sentinel/lib/python3.7/site-packages (from markdown>=2.6.8->tensorboard<1.16.0,>=1.15.0->tensorflow==1.15.0) (5.0.0)\n",
      "Requirement already satisfied: MarkupSafe>=2.1.1 in /Users/ashish.jha/opt/anaconda3/envs/sentinel/lib/python3.7/site-packages (from werkzeug>=0.11.15->tensorboard<1.16.0,>=1.15.0->tensorflow==1.15.0) (2.1.1)\n",
      "Requirement already satisfied: typing-extensions>=3.6.4 in /Users/ashish.jha/opt/anaconda3/envs/sentinel/lib/python3.7/site-packages (from importlib-metadata>=4.4->markdown>=2.6.8->tensorboard<1.16.0,>=1.15.0->tensorflow==1.15.0) (4.4.0)\n",
      "Requirement already satisfied: zipp>=0.5 in /Users/ashish.jha/opt/anaconda3/envs/sentinel/lib/python3.7/site-packages (from importlib-metadata>=4.4->markdown>=2.6.8->tensorboard<1.16.0,>=1.15.0->tensorflow==1.15.0) (3.10.0)\n",
      "Requirement already satisfied: onnx-tf==1.5.0 in /Users/ashish.jha/opt/anaconda3/envs/sentinel/lib/python3.7/site-packages (1.5.0)\n",
      "Requirement already satisfied: onnx>=1.5.0 in /Users/ashish.jha/opt/anaconda3/envs/sentinel/lib/python3.7/site-packages (from onnx-tf==1.5.0) (1.7.0)\n",
      "Requirement already satisfied: PyYAML in /Users/ashish.jha/opt/anaconda3/envs/sentinel/lib/python3.7/site-packages (from onnx-tf==1.5.0) (6.0)\n",
      "Requirement already satisfied: typing-extensions>=3.6.2.1 in /Users/ashish.jha/opt/anaconda3/envs/sentinel/lib/python3.7/site-packages (from onnx>=1.5.0->onnx-tf==1.5.0) (4.4.0)\n",
      "Requirement already satisfied: six in /Users/ashish.jha/opt/anaconda3/envs/sentinel/lib/python3.7/site-packages (from onnx>=1.5.0->onnx-tf==1.5.0) (1.16.0)\n",
      "Requirement already satisfied: protobuf in /Users/ashish.jha/opt/anaconda3/envs/sentinel/lib/python3.7/site-packages (from onnx>=1.5.0->onnx-tf==1.5.0) (3.20.1)\n",
      "Requirement already satisfied: numpy in /Users/ashish.jha/opt/anaconda3/envs/sentinel/lib/python3.7/site-packages (from onnx>=1.5.0->onnx-tf==1.5.0) (1.21.6)\n",
      "Requirement already satisfied: onnx==1.7.0 in /Users/ashish.jha/opt/anaconda3/envs/sentinel/lib/python3.7/site-packages (1.7.0)\n",
      "Requirement already satisfied: typing-extensions>=3.6.2.1 in /Users/ashish.jha/opt/anaconda3/envs/sentinel/lib/python3.7/site-packages (from onnx==1.7.0) (4.4.0)\n",
      "Requirement already satisfied: six in /Users/ashish.jha/opt/anaconda3/envs/sentinel/lib/python3.7/site-packages (from onnx==1.7.0) (1.16.0)\n",
      "Requirement already satisfied: protobuf in /Users/ashish.jha/opt/anaconda3/envs/sentinel/lib/python3.7/site-packages (from onnx==1.7.0) (3.20.1)\n",
      "Requirement already satisfied: numpy in /Users/ashish.jha/opt/anaconda3/envs/sentinel/lib/python3.7/site-packages (from onnx==1.7.0) (1.21.6)\n"
     ]
    },
    {
     "name": "stdout",
     "output_type": "stream",
     "text": [
      "Requirement already satisfied: Pillow==9.3.0 in /Users/ashish.jha/opt/anaconda3/envs/sentinel/lib/python3.7/site-packages (9.3.0)\r\n"
     ]
    }
   ],
   "source": [
    "!pip install torch==1.12.\n",
    "!pip install torchvision==0.13.1\n",
    "!pip install tensorflow==1.15.0\n",
    "!pip install onnx-tf==1.5.0\n",
    "!pip install onnx==1.7.0\n",
    "!pip install Pillow==9.3.0"
   ]
  },
  {
   "cell_type": "code",
   "execution_count": 2,
   "metadata": {},
   "outputs": [],
   "source": [
    "import torch\n",
    "import torch.nn as nn\n",
    "import torch.nn.functional as F\n",
    "import torch.optim as optim\n",
    "from torch.utils.data import DataLoader\n",
    "from torchvision import datasets, transforms\n",
    "\n",
    "import numpy as np\n",
    "from PIL import Image\n",
    "\n",
    "import tensorflow as tf"
   ]
  },
  {
   "cell_type": "code",
   "execution_count": 3,
   "metadata": {},
   "outputs": [],
   "source": [
    "class ConvNet(nn.Module):\n",
    "    def __init__(self):\n",
    "        super(ConvNet, self).__init__()\n",
    "        self.cn1 = nn.Conv2d(1, 16, 3, 1)\n",
    "        self.cn2 = nn.Conv2d(16, 32, 3, 1)\n",
    "        self.dp1 = nn.Dropout2d(0.10)\n",
    "        self.dp2 = nn.Dropout2d(0.25)\n",
    "        self.fc1 = nn.Linear(4608, 64) # 4608 is basically 12 X 12 X 32\n",
    "        self.fc2 = nn.Linear(64, 10)\n",
    " \n",
    "    def forward(self, x):\n",
    "        x = self.cn1(x)\n",
    "        x = F.relu(x)\n",
    "        x = self.cn2(x)\n",
    "        x = F.relu(x)\n",
    "        x = F.max_pool2d(x, 2)\n",
    "        x = self.dp1(x)\n",
    "        x = torch.flatten(x, 1)\n",
    "        x = self.fc1(x)\n",
    "        x = F.relu(x)\n",
    "        x = self.dp2(x)\n",
    "        x = self.fc2(x)\n",
    "        op = F.log_softmax(x, dim=1)\n",
    "        return op\n",
    "    \n",
    "model = ConvNet()"
   ]
  },
  {
   "cell_type": "code",
   "execution_count": 4,
   "metadata": {},
   "outputs": [
    {
     "data": {
      "text/plain": [
       "<All keys matched successfully>"
      ]
     },
     "execution_count": 4,
     "metadata": {},
     "output_type": "execute_result"
    }
   ],
   "source": [
    "PATH_TO_MODEL = \"./convnet.pth\"\n",
    "model.load_state_dict(torch.load(PATH_TO_MODEL, map_location=\"cpu\"))"
   ]
  },
  {
   "cell_type": "code",
   "execution_count": 5,
   "metadata": {},
   "outputs": [],
   "source": [
    "image = Image.open(\"./digit_image.jpg\")"
   ]
  },
  {
   "cell_type": "code",
   "execution_count": 6,
   "metadata": {},
   "outputs": [],
   "source": [
    "def image_to_tensor(image):\n",
    "    gray_image = transforms.functional.to_grayscale(image)\n",
    "    resized_image = transforms.functional.resize(gray_image, (28, 28))\n",
    "    input_image_tensor = transforms.functional.to_tensor(resized_image)\n",
    "    input_image_tensor_norm = transforms.functional.normalize(input_image_tensor, (0.1302,), (0.3069,))\n",
    "    return input_image_tensor_norm"
   ]
  },
  {
   "cell_type": "code",
   "execution_count": 7,
   "metadata": {},
   "outputs": [],
   "source": [
    "input_tensor = image_to_tensor(image)"
   ]
  },
  {
   "cell_type": "code",
   "execution_count": 8,
   "metadata": {},
   "outputs": [],
   "source": [
    "model.eval()\n",
    "for p in model.parameters():\n",
    "    p.requires_grad_(False)"
   ]
  },
  {
   "cell_type": "code",
   "execution_count": 9,
   "metadata": {},
   "outputs": [
    {
     "name": "stderr",
     "output_type": "stream",
     "text": [
      "/Users/ashish.jha/opt/anaconda3/envs/sentinel/lib/python3.7/site-packages/torch/nn/functional.py:1331: UserWarning: dropout2d: Received a 2-D input to dropout2d, which is deprecated and will result in an error in a future release. To retain the behavior and silence this warning, please use dropout instead. Note that dropout2d exists to provide channel-wise dropout on inputs with 2 spatial dimensions, a channel dimension, and an optional batch dimension (i.e. 3D or 4D inputs).\n",
      "  warnings.warn(warn_msg)\n"
     ]
    }
   ],
   "source": [
    "demo_input = torch.ones(1, 1, 28, 28)\n",
    "torch.onnx.export(model, demo_input, \"convnet.onnx\")"
   ]
  },
  {
   "cell_type": "code",
   "execution_count": null,
   "metadata": {},
   "outputs": [],
   "source": [
    "import onnx\n",
    "from onnx_tf.backend import prepare\n",
    "\n",
    "model_onnx = onnx.load(\"./convnet.onnx\")\n",
    "tf_rep = prepare(model_onnx)\n",
    "tf_rep.export_graph(\"./convnet.pb\")"
   ]
  },
  {
   "cell_type": "code",
   "execution_count": null,
   "metadata": {},
   "outputs": [],
   "source": [
    "with tf.gfile.GFile(\"./convnet.pb\", \"rb\") as f:\n",
    "    graph_definition = tf.GraphDef()\n",
    "    graph_definition.ParseFromString(f.read())\n",
    "    \n",
    "with tf.Graph().as_default() as model_graph:\n",
    "    tf.import_graph_def(graph_definition, name=\"\")\n",
    "    \n",
    "for op in model_graph.get_operations():\n",
    "    print(op.values())"
   ]
  },
  {
   "cell_type": "code",
   "execution_count": null,
   "metadata": {},
   "outputs": [],
   "source": [
    "model_output = model_graph.get_tensor_by_name('18:0')\n",
    "model_input = model_graph.get_tensor_by_name('input.1:0')\n",
    "\n",
    "sess = tf.Session(graph=model_graph)\n",
    "output = sess.run(model_output, feed_dict={model_input: input_tensor.unsqueeze(0)})\n",
    "print(output)"
   ]
  },
  {
   "cell_type": "code",
   "execution_count": null,
   "metadata": {},
   "outputs": [],
   "source": []
  },
  {
   "cell_type": "code",
   "execution_count": null,
   "metadata": {},
   "outputs": [],
   "source": []
  }
 ],
 "metadata": {
  "kernelspec": {
   "display_name": "Python 3 (ipykernel)",
   "language": "python",
   "name": "python3"
  },
  "language_info": {
   "codemirror_mode": {
    "name": "ipython",
    "version": 3
   },
   "file_extension": ".py",
   "mimetype": "text/x-python",
   "name": "python",
   "nbconvert_exporter": "python",
   "pygments_lexer": "ipython3",
   "version": "3.7.13"
  }
 },
 "nbformat": 4,
 "nbformat_minor": 4
}
