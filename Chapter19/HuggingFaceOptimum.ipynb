{
 "cells": [
  {
   "cell_type": "code",
   "execution_count": null,
   "id": "b0471b34-bdaa-42f1-af0f-1468c560b0fa",
   "metadata": {},
   "outputs": [],
   "source": [
    "from transformers import AutoModelForSequenceClassification, AutoTokenizer\n",
    "from optimum.onnxruntime import ORTModelForSequenceClassification"
   ]
  },
  {
   "cell_type": "code",
   "execution_count": null,
   "id": "9c22987b-f4a6-415e-9a40-327d9b69a2fe",
   "metadata": {},
   "outputs": [],
   "source": [
    "# a pre-trained model from HuggingFace\n",
    "model_name = \"bert-base-uncased\"\n",
    "onnx_directory = \"bert-base-uncased_onnx\""
   ]
  },
  {
   "cell_type": "code",
   "execution_count": null,
   "id": "6428193d-f0e4-4ad8-b140-6f5fe797dd65",
   "metadata": {},
   "outputs": [],
   "source": [
    "# Load the pre-trained model and tokenizer\n",
    "tokenizer = AutoTokenizer.from_pretrained(\"bert-base-uncased\", export=True)\n",
    "model = AutoModelForSequenceClassification.from_pretrained(model_name)"
   ]
  },
  {
   "cell_type": "code",
   "execution_count": null,
   "id": "fb324d63-3bee-41ed-95bd-40bf49b13d63",
   "metadata": {},
   "outputs": [],
   "source": [
    "input_ids = tokenizer(\"I love PyTorch!\", return_tensors=\"pt\")\n",
    "model(**input_ids)"
   ]
  },
  {
   "cell_type": "code",
   "execution_count": null,
   "id": "62746dc3-f43c-44eb-8c4c-c17283d26a94",
   "metadata": {},
   "outputs": [],
   "source": [
    "model_onnx = ORTModelForSequenceClassification.from_pretrained(\"bert-base-uncased\", export=True)\n",
    "model_onnx(**input_ids)"
   ]
  },
  {
   "cell_type": "code",
   "execution_count": null,
   "id": "1f88c2bc-4bea-4fa0-8487-ad406e94719d",
   "metadata": {},
   "outputs": [],
   "source": [
    "model_onnx.save_pretrained(onnx_directory)\n",
    "tokenizer.save_pretrained(onnx_directory)"
   ]
  },
  {
   "cell_type": "code",
   "execution_count": null,
   "id": "4df44901-4dd0-4670-a348-94a027e63419",
   "metadata": {},
   "outputs": [],
   "source": [
    "from optimum.onnxruntime.configuration import AutoQuantizationConfig\n",
    "from optimum.onnxruntime import ORTQuantizer"
   ]
  },
  {
   "cell_type": "code",
   "execution_count": null,
   "id": "668a7a50-daf8-4648-bc54-720643f0411a",
   "metadata": {},
   "outputs": [],
   "source": [
    "qconfig = AutoQuantizationConfig.arm64(is_static=False, per_channel=False)\n",
    "quantizer = ORTQuantizer.from_pretrained(model_onnx)\n",
    "quantizer.quantize(save_dir=onnx_directory, quantization_config=qconfig)"
   ]
  },
  {
   "cell_type": "code",
   "execution_count": null,
   "id": "92b1f6a7-bf31-48d3-aabf-bdea6aa617d0",
   "metadata": {},
   "outputs": [],
   "source": [
    "model_quantized = ORTModelForSequenceClassification.from_pretrained(onnx_directory, file_name=\"model.onnx\")\n",
    "model_quantized(**input_ids)"
   ]
  }
 ],
 "metadata": {
  "kernelspec": {
   "display_name": "Python 3 (ipykernel)",
   "language": "python",
   "name": "python3"
  },
  "language_info": {
   "codemirror_mode": {
    "name": "ipython",
    "version": 3
   },
   "file_extension": ".py",
   "mimetype": "text/x-python",
   "name": "python",
   "nbconvert_exporter": "python",
   "pygments_lexer": "ipython3",
   "version": "3.8.18"
  }
 },
 "nbformat": 4,
 "nbformat_minor": 5
}
