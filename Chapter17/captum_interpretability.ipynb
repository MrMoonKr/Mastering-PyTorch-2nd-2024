{
 "cells": [
  {
   "cell_type": "code",
   "execution_count": 1,
   "metadata": {
    "scrolled": true
   },
   "outputs": [
    {
     "name": "stdout",
     "output_type": "stream",
     "text": [
      "\u001b[33mWARNING: Ignoring invalid distribution -orch (/Users/ashish.jha/opt/anaconda3/envs/mastering_pytorch/lib/python3.9/site-packages)\u001b[0m\u001b[33m\n",
      "\u001b[0m\u001b[33mWARNING: Ignoring invalid distribution -orch (/Users/ashish.jha/opt/anaconda3/envs/mastering_pytorch/lib/python3.9/site-packages)\u001b[0m\u001b[33m\n",
      "\u001b[0mCollecting torch==1.12\n",
      "  Using cached torch-1.12.0-cp39-none-macosx_10_9_x86_64.whl (133.6 MB)\n",
      "Requirement already satisfied: typing-extensions in /Users/ashish.jha/opt/anaconda3/envs/mastering_pytorch/lib/python3.9/site-packages (from torch==1.12) (4.3.0)\n",
      "\u001b[33mWARNING: Ignoring invalid distribution -orch (/Users/ashish.jha/opt/anaconda3/envs/mastering_pytorch/lib/python3.9/site-packages)\u001b[0m\u001b[33m\n",
      "\u001b[0mInstalling collected packages: torch\n",
      "  Attempting uninstall: torch\n",
      "\u001b[33m    WARNING: Ignoring invalid distribution -orch (/Users/ashish.jha/opt/anaconda3/envs/mastering_pytorch/lib/python3.9/site-packages)\u001b[0m\u001b[33m\n",
      "\u001b[0m\u001b[33m    WARNING: No metadata found in /Users/ashish.jha/opt/anaconda3/envs/mastering_pytorch/lib/python3.9/site-packages\u001b[0m\u001b[33m\n",
      "\u001b[0m    Found existing installation: torch 1.12.1\n",
      "\u001b[33m    WARNING: No metadata found in /Users/ashish.jha/opt/anaconda3/envs/mastering_pytorch/lib/python3.9/site-packages\u001b[0m\u001b[33m\n",
      "\u001b[0m\u001b[33m    WARNING: No metadata found in /Users/ashish.jha/opt/anaconda3/envs/mastering_pytorch/lib/python3.9/site-packages\u001b[0m\u001b[33m\n",
      "\u001b[0m\u001b[33m    WARNING: No metadata found in /Users/ashish.jha/opt/anaconda3/envs/mastering_pytorch/lib/python3.9/site-packages\u001b[0m\u001b[33m\n",
      "\u001b[0m\u001b[33m    WARNING: No metadata found in /Users/ashish.jha/opt/anaconda3/envs/mastering_pytorch/lib/python3.9/site-packages\u001b[0m\u001b[33m\n",
      "\u001b[0m\u001b[33m    WARNING: No metadata found in /Users/ashish.jha/opt/anaconda3/envs/mastering_pytorch/lib/python3.9/site-packages\u001b[0m\u001b[33m\n",
      "\u001b[0m\u001b[33m    WARNING: No metadata found in /Users/ashish.jha/opt/anaconda3/envs/mastering_pytorch/lib/python3.9/site-packages\u001b[0m\u001b[33m\n",
      "\u001b[0m    Can't uninstall 'torch'. No files were found to uninstall.\n",
      "\u001b[33mWARNING: Ignoring invalid distribution -orch (/Users/ashish.jha/opt/anaconda3/envs/mastering_pytorch/lib/python3.9/site-packages)\u001b[0m\u001b[33m\n",
      "\u001b[0m\u001b[31mERROR: pip's dependency resolver does not currently take into account all the packages that are installed. This behaviour is the source of the following dependency conflicts.\n",
      "torchvision 0.13.1 requires torch==1.12.1, but you have torch 1.12.0 which is incompatible.\n",
      "torchtext 0.13.1 requires torch==1.12.1, but you have torch 1.12.0 which is incompatible.\n",
      "torchdata 0.4.1 requires torch==1.12.1, but you have torch 1.12.0 which is incompatible.\u001b[0m\u001b[31m\n",
      "\u001b[0mSuccessfully installed torch-1.12.0\n",
      "\u001b[33mWARNING: Ignoring invalid distribution -orch (/Users/ashish.jha/opt/anaconda3/envs/mastering_pytorch/lib/python3.9/site-packages)\u001b[0m\u001b[33m\n",
      "\u001b[0m\u001b[33mWARNING: Ignoring invalid distribution -orch (/Users/ashish.jha/opt/anaconda3/envs/mastering_pytorch/lib/python3.9/site-packages)\u001b[0m\u001b[33m\n",
      "\u001b[0m\u001b[33mWARNING: Ignoring invalid distribution -orch (/Users/ashish.jha/opt/anaconda3/envs/mastering_pytorch/lib/python3.9/site-packages)\u001b[0m\u001b[33m\n",
      "\u001b[0m\u001b[33mWARNING: Ignoring invalid distribution -orch (/Users/ashish.jha/opt/anaconda3/envs/mastering_pytorch/lib/python3.9/site-packages)\u001b[0m\u001b[33m\n",
      "\u001b[0m\u001b[33mWARNING: Ignoring invalid distribution -orch (/Users/ashish.jha/opt/anaconda3/envs/mastering_pytorch/lib/python3.9/site-packages)\u001b[0m\u001b[33m\n",
      "\u001b[0mCollecting torchvision==0.13\n",
      "  Using cached torchvision-0.13.0-cp39-cp39-macosx_10_9_x86_64.whl (1.3 MB)\n",
      "Requirement already satisfied: numpy in /Users/ashish.jha/opt/anaconda3/envs/mastering_pytorch/lib/python3.9/site-packages (from torchvision==0.13) (1.22.4)\n",
      "Requirement already satisfied: typing-extensions in /Users/ashish.jha/opt/anaconda3/envs/mastering_pytorch/lib/python3.9/site-packages (from torchvision==0.13) (4.3.0)\n",
      "Requirement already satisfied: requests in /Users/ashish.jha/opt/anaconda3/envs/mastering_pytorch/lib/python3.9/site-packages (from torchvision==0.13) (2.28.1)\n",
      "Requirement already satisfied: pillow!=8.3.*,>=5.3.0 in /Users/ashish.jha/opt/anaconda3/envs/mastering_pytorch/lib/python3.9/site-packages (from torchvision==0.13) (9.2.0)\n",
      "Requirement already satisfied: torch==1.12.0 in /Users/ashish.jha/opt/anaconda3/envs/mastering_pytorch/lib/python3.9/site-packages (from torchvision==0.13) (1.12.0)\n",
      "Requirement already satisfied: urllib3<1.27,>=1.21.1 in /Users/ashish.jha/opt/anaconda3/envs/mastering_pytorch/lib/python3.9/site-packages (from requests->torchvision==0.13) (1.26.11)\n",
      "Requirement already satisfied: certifi>=2017.4.17 in /Users/ashish.jha/opt/anaconda3/envs/mastering_pytorch/lib/python3.9/site-packages (from requests->torchvision==0.13) (2022.6.15)\n",
      "Requirement already satisfied: idna<4,>=2.5 in /Users/ashish.jha/opt/anaconda3/envs/mastering_pytorch/lib/python3.9/site-packages (from requests->torchvision==0.13) (3.3)\n",
      "Requirement already satisfied: charset-normalizer<3,>=2 in /Users/ashish.jha/opt/anaconda3/envs/mastering_pytorch/lib/python3.9/site-packages (from requests->torchvision==0.13) (2.1.0)\n",
      "\u001b[33mWARNING: Ignoring invalid distribution -orch (/Users/ashish.jha/opt/anaconda3/envs/mastering_pytorch/lib/python3.9/site-packages)\u001b[0m\u001b[33m\n",
      "\u001b[0mInstalling collected packages: torchvision\n",
      "  Attempting uninstall: torchvision\n",
      "\u001b[33m    WARNING: Ignoring invalid distribution -orch (/Users/ashish.jha/opt/anaconda3/envs/mastering_pytorch/lib/python3.9/site-packages)\u001b[0m\u001b[33m\n",
      "\u001b[0m\u001b[33m    WARNING: No metadata found in /Users/ashish.jha/opt/anaconda3/envs/mastering_pytorch/lib/python3.9/site-packages\u001b[0m\u001b[33m\n",
      "\u001b[0m    Found existing installation: torchvision 0.13.1\n",
      "\u001b[33m    WARNING: No metadata found in /Users/ashish.jha/opt/anaconda3/envs/mastering_pytorch/lib/python3.9/site-packages\u001b[0m\u001b[33m\n",
      "\u001b[0m\u001b[33m    WARNING: No metadata found in /Users/ashish.jha/opt/anaconda3/envs/mastering_pytorch/lib/python3.9/site-packages\u001b[0m\u001b[33m\n",
      "\u001b[0m\u001b[33m    WARNING: No metadata found in /Users/ashish.jha/opt/anaconda3/envs/mastering_pytorch/lib/python3.9/site-packages\u001b[0m\u001b[33m\n",
      "\u001b[0m\u001b[33m    WARNING: No metadata found in /Users/ashish.jha/opt/anaconda3/envs/mastering_pytorch/lib/python3.9/site-packages\u001b[0m\u001b[33m\n",
      "\u001b[0m\u001b[33m    WARNING: No metadata found in /Users/ashish.jha/opt/anaconda3/envs/mastering_pytorch/lib/python3.9/site-packages\u001b[0m\u001b[33m\n",
      "\u001b[0m\u001b[33m    WARNING: No metadata found in /Users/ashish.jha/opt/anaconda3/envs/mastering_pytorch/lib/python3.9/site-packages\u001b[0m\u001b[33m\n",
      "\u001b[0m    Can't uninstall 'torchvision'. No files were found to uninstall.\n",
      "\u001b[33mWARNING: Ignoring invalid distribution -orch (/Users/ashish.jha/opt/anaconda3/envs/mastering_pytorch/lib/python3.9/site-packages)\u001b[0m\u001b[33m\n",
      "\u001b[0mSuccessfully installed torchvision-0.13.0\n",
      "\u001b[33mWARNING: Ignoring invalid distribution -orch (/Users/ashish.jha/opt/anaconda3/envs/mastering_pytorch/lib/python3.9/site-packages)\u001b[0m\u001b[33m\n",
      "\u001b[0m\u001b[33mWARNING: Ignoring invalid distribution -orch (/Users/ashish.jha/opt/anaconda3/envs/mastering_pytorch/lib/python3.9/site-packages)\u001b[0m\u001b[33m\n",
      "\u001b[0m\u001b[33mWARNING: Ignoring invalid distribution -orch (/Users/ashish.jha/opt/anaconda3/envs/mastering_pytorch/lib/python3.9/site-packages)\u001b[0m\u001b[33m\n",
      "\u001b[0m\u001b[33mWARNING: Ignoring invalid distribution -orch (/Users/ashish.jha/opt/anaconda3/envs/mastering_pytorch/lib/python3.9/site-packages)\u001b[0m\u001b[33m\n",
      "\u001b[0m\u001b[33mWARNING: Ignoring invalid distribution -orch (/Users/ashish.jha/opt/anaconda3/envs/mastering_pytorch/lib/python3.9/site-packages)\u001b[0m\u001b[33m\n",
      "\u001b[0mRequirement already satisfied: nltk==3.7 in /Users/ashish.jha/opt/anaconda3/envs/mastering_pytorch/lib/python3.9/site-packages (3.7)\n",
      "Requirement already satisfied: regex>=2021.8.3 in /Users/ashish.jha/opt/anaconda3/envs/mastering_pytorch/lib/python3.9/site-packages (from nltk==3.7) (2022.7.25)\n",
      "Requirement already satisfied: joblib in /Users/ashish.jha/opt/anaconda3/envs/mastering_pytorch/lib/python3.9/site-packages (from nltk==3.7) (1.1.0)\n",
      "Requirement already satisfied: tqdm in /Users/ashish.jha/opt/anaconda3/envs/mastering_pytorch/lib/python3.9/site-packages (from nltk==3.7) (4.64.0)\n",
      "Requirement already satisfied: click in /Users/ashish.jha/opt/anaconda3/envs/mastering_pytorch/lib/python3.9/site-packages (from nltk==3.7) (8.1.3)\n",
      "\u001b[33mWARNING: Ignoring invalid distribution -orch (/Users/ashish.jha/opt/anaconda3/envs/mastering_pytorch/lib/python3.9/site-packages)\u001b[0m\u001b[33m\n"
     ]
    },
    {
     "name": "stdout",
     "output_type": "stream",
     "text": [
      "\u001b[0m\u001b[33mWARNING: Ignoring invalid distribution -orch (/Users/ashish.jha/opt/anaconda3/envs/mastering_pytorch/lib/python3.9/site-packages)\u001b[0m\u001b[33m\n",
      "\u001b[0m\u001b[33mWARNING: Ignoring invalid distribution -orch (/Users/ashish.jha/opt/anaconda3/envs/mastering_pytorch/lib/python3.9/site-packages)\u001b[0m\u001b[33m\n",
      "\u001b[0m\u001b[33mWARNING: Ignoring invalid distribution -orch (/Users/ashish.jha/opt/anaconda3/envs/mastering_pytorch/lib/python3.9/site-packages)\u001b[0m\u001b[33m\n",
      "\u001b[0m\u001b[33mWARNING: Ignoring invalid distribution -orch (/Users/ashish.jha/opt/anaconda3/envs/mastering_pytorch/lib/python3.9/site-packages)\u001b[0m\u001b[33m\n",
      "\u001b[0m\u001b[33mWARNING: Ignoring invalid distribution -orch (/Users/ashish.jha/opt/anaconda3/envs/mastering_pytorch/lib/python3.9/site-packages)\u001b[0m\u001b[33m\n",
      "\u001b[0mRequirement already satisfied: torchtext==0.13.1 in /Users/ashish.jha/opt/anaconda3/envs/mastering_pytorch/lib/python3.9/site-packages (0.13.1)\n",
      "Collecting torch==1.12.1\n",
      "  Using cached torch-1.12.1-cp39-none-macosx_10_9_x86_64.whl (133.8 MB)\n",
      "Requirement already satisfied: requests in /Users/ashish.jha/opt/anaconda3/envs/mastering_pytorch/lib/python3.9/site-packages (from torchtext==0.13.1) (2.28.1)\n",
      "Requirement already satisfied: tqdm in /Users/ashish.jha/opt/anaconda3/envs/mastering_pytorch/lib/python3.9/site-packages (from torchtext==0.13.1) (4.64.0)\n",
      "Requirement already satisfied: numpy in /Users/ashish.jha/opt/anaconda3/envs/mastering_pytorch/lib/python3.9/site-packages (from torchtext==0.13.1) (1.22.4)\n",
      "Requirement already satisfied: typing-extensions in /Users/ashish.jha/opt/anaconda3/envs/mastering_pytorch/lib/python3.9/site-packages (from torch==1.12.1->torchtext==0.13.1) (4.3.0)\n",
      "Requirement already satisfied: charset-normalizer<3,>=2 in /Users/ashish.jha/opt/anaconda3/envs/mastering_pytorch/lib/python3.9/site-packages (from requests->torchtext==0.13.1) (2.1.0)\n",
      "Requirement already satisfied: urllib3<1.27,>=1.21.1 in /Users/ashish.jha/opt/anaconda3/envs/mastering_pytorch/lib/python3.9/site-packages (from requests->torchtext==0.13.1) (1.26.11)\n",
      "Requirement already satisfied: certifi>=2017.4.17 in /Users/ashish.jha/opt/anaconda3/envs/mastering_pytorch/lib/python3.9/site-packages (from requests->torchtext==0.13.1) (2022.6.15)\n",
      "Requirement already satisfied: idna<4,>=2.5 in /Users/ashish.jha/opt/anaconda3/envs/mastering_pytorch/lib/python3.9/site-packages (from requests->torchtext==0.13.1) (3.3)\n",
      "\u001b[33mWARNING: Ignoring invalid distribution -orch (/Users/ashish.jha/opt/anaconda3/envs/mastering_pytorch/lib/python3.9/site-packages)\u001b[0m\u001b[33m\n",
      "\u001b[0mInstalling collected packages: torch\n",
      "  Attempting uninstall: torch\n",
      "\u001b[33m    WARNING: Ignoring invalid distribution -orch (/Users/ashish.jha/opt/anaconda3/envs/mastering_pytorch/lib/python3.9/site-packages)\u001b[0m\u001b[33m\n",
      "\u001b[0m    Found existing installation: torch 1.12.0\n",
      "\u001b[33m    WARNING: No metadata found in /Users/ashish.jha/opt/anaconda3/envs/mastering_pytorch/lib/python3.9/site-packages\u001b[0m\u001b[33m\n",
      "\u001b[0m\u001b[33m    WARNING: No metadata found in /Users/ashish.jha/opt/anaconda3/envs/mastering_pytorch/lib/python3.9/site-packages\u001b[0m\u001b[33m\n",
      "\u001b[0m\u001b[33m    WARNING: No metadata found in /Users/ashish.jha/opt/anaconda3/envs/mastering_pytorch/lib/python3.9/site-packages\u001b[0m\u001b[33m\n",
      "\u001b[0m    Uninstalling torch-1.12.0:\n",
      "\u001b[31mERROR: Could not install packages due to an OSError: [Errno 2] No such file or directory: '/Users/ashish.jha/opt/anaconda3/envs/mastering_pytorch/bin/convert-caffe2-to-onnx'\n",
      "\u001b[0m\u001b[31m\n",
      "\u001b[0m\u001b[33mWARNING: Ignoring invalid distribution -orch (/Users/ashish.jha/opt/anaconda3/envs/mastering_pytorch/lib/python3.9/site-packages)\u001b[0m\u001b[33m\n",
      "\u001b[0m\u001b[33mWARNING: Ignoring invalid distribution -orch (/Users/ashish.jha/opt/anaconda3/envs/mastering_pytorch/lib/python3.9/site-packages)\u001b[0m\u001b[33m\n",
      "\u001b[0m\u001b[33mWARNING: Ignoring invalid distribution -orch (/Users/ashish.jha/opt/anaconda3/envs/mastering_pytorch/lib/python3.9/site-packages)\u001b[0m\u001b[33m\n",
      "\u001b[0m\u001b[33mWARNING: Ignoring invalid distribution -orch (/Users/ashish.jha/opt/anaconda3/envs/mastering_pytorch/lib/python3.9/site-packages)\u001b[0m\u001b[33m\n",
      "\u001b[0m\u001b[33mWARNING: Ignoring invalid distribution -orch (/Users/ashish.jha/opt/anaconda3/envs/mastering_pytorch/lib/python3.9/site-packages)\u001b[0m\u001b[33m\n",
      "\u001b[0mRequirement already satisfied: networkx==2.8.5 in /Users/ashish.jha/opt/anaconda3/envs/mastering_pytorch/lib/python3.9/site-packages (2.8.5)\n",
      "\u001b[33mWARNING: Ignoring invalid distribution -orch (/Users/ashish.jha/opt/anaconda3/envs/mastering_pytorch/lib/python3.9/site-packages)\u001b[0m\u001b[33m\n",
      "\u001b[0m\u001b[33mWARNING: Ignoring invalid distribution -orch (/Users/ashish.jha/opt/anaconda3/envs/mastering_pytorch/lib/python3.9/site-packages)\u001b[0m\u001b[33m\n",
      "\u001b[0m\u001b[33mWARNING: Ignoring invalid distribution -orch (/Users/ashish.jha/opt/anaconda3/envs/mastering_pytorch/lib/python3.9/site-packages)\u001b[0m\u001b[33m\n",
      "\u001b[0m\u001b[33mWARNING: Ignoring invalid distribution -orch (/Users/ashish.jha/opt/anaconda3/envs/mastering_pytorch/lib/python3.9/site-packages)\u001b[0m\u001b[33m\n",
      "\u001b[0m\u001b[33mWARNING: Ignoring invalid distribution -orch (/Users/ashish.jha/opt/anaconda3/envs/mastering_pytorch/lib/python3.9/site-packages)\u001b[0m\u001b[33m\n",
      "\u001b[0m\u001b[33mWARNING: Ignoring invalid distribution -orch (/Users/ashish.jha/opt/anaconda3/envs/mastering_pytorch/lib/python3.9/site-packages)\u001b[0m\u001b[33m\n",
      "\u001b[0mRequirement already satisfied: torchviz==0.0.2 in /Users/ashish.jha/opt/anaconda3/envs/mastering_pytorch/lib/python3.9/site-packages (0.0.2)\n",
      "Requirement already satisfied: torch in /Users/ashish.jha/opt/anaconda3/envs/mastering_pytorch/lib/python3.9/site-packages (from torchviz==0.0.2) (1.12.1)\n",
      "Requirement already satisfied: graphviz in /Users/ashish.jha/opt/anaconda3/envs/mastering_pytorch/lib/python3.9/site-packages (from torchviz==0.0.2) (0.20.1)\n",
      "Requirement already satisfied: typing-extensions in /Users/ashish.jha/opt/anaconda3/envs/mastering_pytorch/lib/python3.9/site-packages (from torch->torchviz==0.0.2) (4.3.0)\n",
      "\u001b[33mWARNING: Ignoring invalid distribution -orch (/Users/ashish.jha/opt/anaconda3/envs/mastering_pytorch/lib/python3.9/site-packages)\u001b[0m\u001b[33m\n",
      "\u001b[0m\u001b[33mWARNING: Ignoring invalid distribution -orch (/Users/ashish.jha/opt/anaconda3/envs/mastering_pytorch/lib/python3.9/site-packages)\u001b[0m\u001b[33m\n",
      "\u001b[0m\u001b[33mWARNING: Ignoring invalid distribution -orch (/Users/ashish.jha/opt/anaconda3/envs/mastering_pytorch/lib/python3.9/site-packages)\u001b[0m\u001b[33m\n",
      "\u001b[0m\u001b[33mWARNING: Ignoring invalid distribution -orch (/Users/ashish.jha/opt/anaconda3/envs/mastering_pytorch/lib/python3.9/site-packages)\u001b[0m\u001b[33m\n",
      "\u001b[0m\u001b[33mWARNING: Ignoring invalid distribution -orch (/Users/ashish.jha/opt/anaconda3/envs/mastering_pytorch/lib/python3.9/site-packages)\u001b[0m\u001b[33m\n",
      "\u001b[0m\u001b[33mWARNING: Ignoring invalid distribution -orch (/Users/ashish.jha/opt/anaconda3/envs/mastering_pytorch/lib/python3.9/site-packages)\u001b[0m\u001b[33m\n",
      "\u001b[0mRequirement already satisfied: matplotlib==3.5.2 in /Users/ashish.jha/opt/anaconda3/envs/mastering_pytorch/lib/python3.9/site-packages (3.5.2)\n",
      "Requirement already satisfied: cycler>=0.10 in /Users/ashish.jha/opt/anaconda3/envs/mastering_pytorch/lib/python3.9/site-packages (from matplotlib==3.5.2) (0.11.0)\n",
      "Requirement already satisfied: pillow>=6.2.0 in /Users/ashish.jha/opt/anaconda3/envs/mastering_pytorch/lib/python3.9/site-packages (from matplotlib==3.5.2) (9.2.0)\n",
      "Requirement already satisfied: python-dateutil>=2.7 in /Users/ashish.jha/opt/anaconda3/envs/mastering_pytorch/lib/python3.9/site-packages (from matplotlib==3.5.2) (2.8.2)\n",
      "Requirement already satisfied: pyparsing>=2.2.1 in /Users/ashish.jha/opt/anaconda3/envs/mastering_pytorch/lib/python3.9/site-packages (from matplotlib==3.5.2) (3.0.9)\n",
      "Requirement already satisfied: fonttools>=4.22.0 in /Users/ashish.jha/opt/anaconda3/envs/mastering_pytorch/lib/python3.9/site-packages (from matplotlib==3.5.2) (4.34.4)\n",
      "Requirement already satisfied: kiwisolver>=1.0.1 in /Users/ashish.jha/opt/anaconda3/envs/mastering_pytorch/lib/python3.9/site-packages (from matplotlib==3.5.2) (1.4.4)\n",
      "Requirement already satisfied: numpy>=1.17 in /Users/ashish.jha/opt/anaconda3/envs/mastering_pytorch/lib/python3.9/site-packages (from matplotlib==3.5.2) (1.22.4)\n",
      "Requirement already satisfied: packaging>=20.0 in /Users/ashish.jha/opt/anaconda3/envs/mastering_pytorch/lib/python3.9/site-packages (from matplotlib==3.5.2) (21.3)\n",
      "Requirement already satisfied: six>=1.5 in /Users/ashish.jha/opt/anaconda3/envs/mastering_pytorch/lib/python3.9/site-packages (from python-dateutil>=2.7->matplotlib==3.5.2) (1.16.0)\n"
     ]
    },
    {
     "name": "stdout",
     "output_type": "stream",
     "text": [
      "\u001b[33mWARNING: Ignoring invalid distribution -orch (/Users/ashish.jha/opt/anaconda3/envs/mastering_pytorch/lib/python3.9/site-packages)\u001b[0m\u001b[33m\n",
      "\u001b[0m\u001b[33mWARNING: Ignoring invalid distribution -orch (/Users/ashish.jha/opt/anaconda3/envs/mastering_pytorch/lib/python3.9/site-packages)\u001b[0m\u001b[33m\n",
      "\u001b[0m\u001b[33mWARNING: Ignoring invalid distribution -orch (/Users/ashish.jha/opt/anaconda3/envs/mastering_pytorch/lib/python3.9/site-packages)\u001b[0m\u001b[33m\n",
      "\u001b[0m\u001b[33mWARNING: Ignoring invalid distribution -orch (/Users/ashish.jha/opt/anaconda3/envs/mastering_pytorch/lib/python3.9/site-packages)\u001b[0m\u001b[33m\n",
      "\u001b[0m\u001b[33mWARNING: Ignoring invalid distribution -orch (/Users/ashish.jha/opt/anaconda3/envs/mastering_pytorch/lib/python3.9/site-packages)\u001b[0m\u001b[33m\n",
      "\u001b[0m\u001b[33mWARNING: Ignoring invalid distribution -orch (/Users/ashish.jha/opt/anaconda3/envs/mastering_pytorch/lib/python3.9/site-packages)\u001b[0m\u001b[33m\n",
      "\u001b[0mRequirement already satisfied: scikit-image==0.19.3 in /Users/ashish.jha/opt/anaconda3/envs/mastering_pytorch/lib/python3.9/site-packages (0.19.3)\n",
      "Requirement already satisfied: tifffile>=2019.7.26 in /Users/ashish.jha/opt/anaconda3/envs/mastering_pytorch/lib/python3.9/site-packages (from scikit-image==0.19.3) (2022.8.3)\n",
      "Requirement already satisfied: numpy>=1.17.0 in /Users/ashish.jha/opt/anaconda3/envs/mastering_pytorch/lib/python3.9/site-packages (from scikit-image==0.19.3) (1.22.4)\n",
      "Requirement already satisfied: networkx>=2.2 in /Users/ashish.jha/opt/anaconda3/envs/mastering_pytorch/lib/python3.9/site-packages (from scikit-image==0.19.3) (2.8.5)\n",
      "Requirement already satisfied: scipy>=1.4.1 in /Users/ashish.jha/opt/anaconda3/envs/mastering_pytorch/lib/python3.9/site-packages (from scikit-image==0.19.3) (1.8.1)\n",
      "Requirement already satisfied: pillow!=7.1.0,!=7.1.1,!=8.3.0,>=6.1.0 in /Users/ashish.jha/opt/anaconda3/envs/mastering_pytorch/lib/python3.9/site-packages (from scikit-image==0.19.3) (9.2.0)\n",
      "Requirement already satisfied: packaging>=20.0 in /Users/ashish.jha/opt/anaconda3/envs/mastering_pytorch/lib/python3.9/site-packages (from scikit-image==0.19.3) (21.3)\n",
      "Requirement already satisfied: PyWavelets>=1.1.1 in /Users/ashish.jha/opt/anaconda3/envs/mastering_pytorch/lib/python3.9/site-packages (from scikit-image==0.19.3) (1.3.0)\n",
      "Requirement already satisfied: imageio>=2.4.1 in /Users/ashish.jha/opt/anaconda3/envs/mastering_pytorch/lib/python3.9/site-packages (from scikit-image==0.19.3) (2.21.1)\n",
      "Requirement already satisfied: pyparsing!=3.0.5,>=2.0.2 in /Users/ashish.jha/opt/anaconda3/envs/mastering_pytorch/lib/python3.9/site-packages (from packaging>=20.0->scikit-image==0.19.3) (3.0.9)\n",
      "\u001b[33mWARNING: Ignoring invalid distribution -orch (/Users/ashish.jha/opt/anaconda3/envs/mastering_pytorch/lib/python3.9/site-packages)\u001b[0m\u001b[33m\n",
      "\u001b[0m\u001b[33mWARNING: Ignoring invalid distribution -orch (/Users/ashish.jha/opt/anaconda3/envs/mastering_pytorch/lib/python3.9/site-packages)\u001b[0m\u001b[33m\n",
      "\u001b[0m\u001b[33mWARNING: Ignoring invalid distribution -orch (/Users/ashish.jha/opt/anaconda3/envs/mastering_pytorch/lib/python3.9/site-packages)\u001b[0m\u001b[33m\n",
      "\u001b[0m\u001b[33mWARNING: Ignoring invalid distribution -orch (/Users/ashish.jha/opt/anaconda3/envs/mastering_pytorch/lib/python3.9/site-packages)\u001b[0m\u001b[33m\n",
      "\u001b[0m\u001b[33mWARNING: Ignoring invalid distribution -orch (/Users/ashish.jha/opt/anaconda3/envs/mastering_pytorch/lib/python3.9/site-packages)\u001b[0m\u001b[33m\n",
      "\u001b[0m\u001b[33mWARNING: Ignoring invalid distribution -orch (/Users/ashish.jha/opt/anaconda3/envs/mastering_pytorch/lib/python3.9/site-packages)\u001b[0m\u001b[33m\n",
      "\u001b[0mCollecting gym==0.25.1\n",
      "  Using cached gym-0.25.1-py3-none-any.whl\n",
      "Requirement already satisfied: importlib-metadata>=4.8.0 in /Users/ashish.jha/opt/anaconda3/envs/mastering_pytorch/lib/python3.9/site-packages (from gym==0.25.1) (4.12.0)\n",
      "Requirement already satisfied: numpy>=1.18.0 in /Users/ashish.jha/opt/anaconda3/envs/mastering_pytorch/lib/python3.9/site-packages (from gym==0.25.1) (1.22.4)\n",
      "Requirement already satisfied: gym-notices>=0.0.4 in /Users/ashish.jha/opt/anaconda3/envs/mastering_pytorch/lib/python3.9/site-packages (from gym==0.25.1) (0.0.7)\n",
      "Requirement already satisfied: cloudpickle>=1.2.0 in /Users/ashish.jha/opt/anaconda3/envs/mastering_pytorch/lib/python3.9/site-packages (from gym==0.25.1) (1.6.0)\n",
      "Requirement already satisfied: zipp>=0.5 in /Users/ashish.jha/opt/anaconda3/envs/mastering_pytorch/lib/python3.9/site-packages (from importlib-metadata>=4.8.0->gym==0.25.1) (3.8.1)\n",
      "\u001b[33mWARNING: Ignoring invalid distribution -orch (/Users/ashish.jha/opt/anaconda3/envs/mastering_pytorch/lib/python3.9/site-packages)\u001b[0m\u001b[33m\n",
      "\u001b[0mInstalling collected packages: gym\n",
      "  Attempting uninstall: gym\n",
      "\u001b[33m    WARNING: Ignoring invalid distribution -orch (/Users/ashish.jha/opt/anaconda3/envs/mastering_pytorch/lib/python3.9/site-packages)\u001b[0m\u001b[33m\n",
      "\u001b[0m    Found existing installation: gym 0.19.0\n",
      "    Uninstalling gym-0.19.0:\n",
      "      Successfully uninstalled gym-0.19.0\n",
      "\u001b[33mWARNING: Ignoring invalid distribution -orch (/Users/ashish.jha/opt/anaconda3/envs/mastering_pytorch/lib/python3.9/site-packages)\u001b[0m\u001b[33m\n",
      "\u001b[0mSuccessfully installed gym-0.25.1\n",
      "\u001b[33mWARNING: Ignoring invalid distribution -orch (/Users/ashish.jha/opt/anaconda3/envs/mastering_pytorch/lib/python3.9/site-packages)\u001b[0m\u001b[33m\n",
      "\u001b[0m\u001b[33mWARNING: Ignoring invalid distribution -orch (/Users/ashish.jha/opt/anaconda3/envs/mastering_pytorch/lib/python3.9/site-packages)\u001b[0m\u001b[33m\n",
      "\u001b[0m\u001b[33mWARNING: Ignoring invalid distribution -orch (/Users/ashish.jha/opt/anaconda3/envs/mastering_pytorch/lib/python3.9/site-packages)\u001b[0m\u001b[33m\n",
      "\u001b[0m\u001b[33mWARNING: Ignoring invalid distribution -orch (/Users/ashish.jha/opt/anaconda3/envs/mastering_pytorch/lib/python3.9/site-packages)\u001b[0m\u001b[33m\n",
      "\u001b[0m\u001b[33mWARNING: Ignoring invalid distribution -orch (/Users/ashish.jha/opt/anaconda3/envs/mastering_pytorch/lib/python3.9/site-packages)\u001b[0m\u001b[33m\n",
      "\u001b[0mRequirement already satisfied: atari-py==0.2.9 in /Users/ashish.jha/opt/anaconda3/envs/mastering_pytorch/lib/python3.9/site-packages (0.2.9)\n",
      "Requirement already satisfied: numpy in /Users/ashish.jha/opt/anaconda3/envs/mastering_pytorch/lib/python3.9/site-packages (from atari-py==0.2.9) (1.22.4)\n",
      "Requirement already satisfied: six in /Users/ashish.jha/opt/anaconda3/envs/mastering_pytorch/lib/python3.9/site-packages (from atari-py==0.2.9) (1.16.0)\n",
      "\u001b[33mWARNING: Ignoring invalid distribution -orch (/Users/ashish.jha/opt/anaconda3/envs/mastering_pytorch/lib/python3.9/site-packages)\u001b[0m\u001b[33m\n",
      "\u001b[0m\u001b[33mWARNING: Ignoring invalid distribution -orch (/Users/ashish.jha/opt/anaconda3/envs/mastering_pytorch/lib/python3.9/site-packages)\u001b[0m\u001b[33m\n",
      "\u001b[0m\u001b[33mWARNING: Ignoring invalid distribution -orch (/Users/ashish.jha/opt/anaconda3/envs/mastering_pytorch/lib/python3.9/site-packages)\u001b[0m\u001b[33m\n",
      "\u001b[0m\u001b[33mWARNING: Ignoring invalid distribution -orch (/Users/ashish.jha/opt/anaconda3/envs/mastering_pytorch/lib/python3.9/site-packages)\u001b[0m\u001b[33m\n",
      "\u001b[0m\u001b[33mWARNING: Ignoring invalid distribution -orch (/Users/ashish.jha/opt/anaconda3/envs/mastering_pytorch/lib/python3.9/site-packages)\u001b[0m\u001b[33m\n",
      "\u001b[0m\u001b[33mWARNING: Ignoring invalid distribution -orch (/Users/ashish.jha/opt/anaconda3/envs/mastering_pytorch/lib/python3.9/site-packages)\u001b[0m\u001b[33m\n",
      "\u001b[0mRequirement already satisfied: opencv-python==4.6.0.66 in /Users/ashish.jha/opt/anaconda3/envs/mastering_pytorch/lib/python3.9/site-packages (4.6.0.66)\n",
      "Requirement already satisfied: numpy>=1.17.3 in /Users/ashish.jha/opt/anaconda3/envs/mastering_pytorch/lib/python3.9/site-packages (from opencv-python==4.6.0.66) (1.22.4)\n",
      "\u001b[33mWARNING: Ignoring invalid distribution -orch (/Users/ashish.jha/opt/anaconda3/envs/mastering_pytorch/lib/python3.9/site-packages)\u001b[0m\u001b[33m\n",
      "\u001b[0m\u001b[33mWARNING: Ignoring invalid distribution -orch (/Users/ashish.jha/opt/anaconda3/envs/mastering_pytorch/lib/python3.9/site-packages)\u001b[0m\u001b[33m\n",
      "\u001b[0m\u001b[33mWARNING: Ignoring invalid distribution -orch (/Users/ashish.jha/opt/anaconda3/envs/mastering_pytorch/lib/python3.9/site-packages)\u001b[0m\u001b[33m\n",
      "\u001b[0m\u001b[33mWARNING: Ignoring invalid distribution -orch (/Users/ashish.jha/opt/anaconda3/envs/mastering_pytorch/lib/python3.9/site-packages)\u001b[0m\u001b[33m\n",
      "\u001b[0m\u001b[33mWARNING: Ignoring invalid distribution -orch (/Users/ashish.jha/opt/anaconda3/envs/mastering_pytorch/lib/python3.9/site-packages)\u001b[0m\u001b[33m\n"
     ]
    },
    {
     "name": "stdout",
     "output_type": "stream",
     "text": [
      "\u001b[0m\u001b[33mWARNING: Ignoring invalid distribution -orch (/Users/ashish.jha/opt/anaconda3/envs/mastering_pytorch/lib/python3.9/site-packages)\u001b[0m\u001b[33m\n",
      "\u001b[0mCollecting autoPyTorch==0.0.2\n",
      "  Using cached autoPyTorch-0.0.2-py3-none-any.whl (312 kB)\n",
      "Requirement already satisfied: ConfigSpace in /Users/ashish.jha/opt/anaconda3/envs/mastering_pytorch/lib/python3.9/site-packages (from autoPyTorch==0.0.2) (0.6.0)\n",
      "Requirement already satisfied: netifaces in /Users/ashish.jha/opt/anaconda3/envs/mastering_pytorch/lib/python3.9/site-packages (from autoPyTorch==0.0.2) (0.11.0)\n",
      "Requirement already satisfied: torch in /Users/ashish.jha/opt/anaconda3/envs/mastering_pytorch/lib/python3.9/site-packages (from autoPyTorch==0.0.2) (1.12.1)\n",
      "Requirement already satisfied: statsmodels in /Users/ashish.jha/opt/anaconda3/envs/mastering_pytorch/lib/python3.9/site-packages (from autoPyTorch==0.0.2) (0.13.2)\n",
      "Requirement already satisfied: torchvision in /Users/ashish.jha/opt/anaconda3/envs/mastering_pytorch/lib/python3.9/site-packages (from autoPyTorch==0.0.2) (0.13.0)\n",
      "Requirement already satisfied: numpy in /Users/ashish.jha/opt/anaconda3/envs/mastering_pytorch/lib/python3.9/site-packages (from autoPyTorch==0.0.2) (1.22.4)\n",
      "Requirement already satisfied: setuptools in /Users/ashish.jha/opt/anaconda3/envs/mastering_pytorch/lib/python3.9/site-packages (from autoPyTorch==0.0.2) (59.8.0)\n",
      "Requirement already satisfied: scikit-learn>=0.20.0 in /Users/ashish.jha/opt/anaconda3/envs/mastering_pytorch/lib/python3.9/site-packages (from autoPyTorch==0.0.2) (0.24.2)\n",
      "Requirement already satisfied: hpbandster in /Users/ashish.jha/opt/anaconda3/envs/mastering_pytorch/lib/python3.9/site-packages (from autoPyTorch==0.0.2) (0.7.4)\n",
      "Requirement already satisfied: tensorboard-logger in /Users/ashish.jha/opt/anaconda3/envs/mastering_pytorch/lib/python3.9/site-packages (from autoPyTorch==0.0.2) (0.1.0)\n",
      "Requirement already satisfied: pynisher in /Users/ashish.jha/opt/anaconda3/envs/mastering_pytorch/lib/python3.9/site-packages (from autoPyTorch==0.0.2) (0.6.4)\n",
      "Requirement already satisfied: imblearn in /Users/ashish.jha/opt/anaconda3/envs/mastering_pytorch/lib/python3.9/site-packages (from autoPyTorch==0.0.2) (0.0)\n",
      "Requirement already satisfied: fasteners in /Users/ashish.jha/opt/anaconda3/envs/mastering_pytorch/lib/python3.9/site-packages (from autoPyTorch==0.0.2) (0.17.3)\n",
      "Requirement already satisfied: openml in /Users/ashish.jha/opt/anaconda3/envs/mastering_pytorch/lib/python3.9/site-packages (from autoPyTorch==0.0.2) (0.12.2)\n",
      "Requirement already satisfied: Cython in /Users/ashish.jha/opt/anaconda3/envs/mastering_pytorch/lib/python3.9/site-packages (from autoPyTorch==0.0.2) (0.29.32)\n",
      "Requirement already satisfied: pandas in /Users/ashish.jha/opt/anaconda3/envs/mastering_pytorch/lib/python3.9/site-packages (from autoPyTorch==0.0.2) (1.4.3)\n",
      "Requirement already satisfied: scipy in /Users/ashish.jha/opt/anaconda3/envs/mastering_pytorch/lib/python3.9/site-packages (from autoPyTorch==0.0.2) (1.8.1)\n",
      "Requirement already satisfied: joblib>=0.11 in /Users/ashish.jha/opt/anaconda3/envs/mastering_pytorch/lib/python3.9/site-packages (from scikit-learn>=0.20.0->autoPyTorch==0.0.2) (1.1.0)\n",
      "Requirement already satisfied: threadpoolctl>=2.0.0 in /Users/ashish.jha/opt/anaconda3/envs/mastering_pytorch/lib/python3.9/site-packages (from scikit-learn>=0.20.0->autoPyTorch==0.0.2) (3.1.0)\n",
      "Requirement already satisfied: typing-extensions in /Users/ashish.jha/opt/anaconda3/envs/mastering_pytorch/lib/python3.9/site-packages (from ConfigSpace->autoPyTorch==0.0.2) (4.3.0)\n",
      "Requirement already satisfied: pyparsing in /Users/ashish.jha/opt/anaconda3/envs/mastering_pytorch/lib/python3.9/site-packages (from ConfigSpace->autoPyTorch==0.0.2) (3.0.9)\n",
      "Requirement already satisfied: serpent in /Users/ashish.jha/opt/anaconda3/envs/mastering_pytorch/lib/python3.9/site-packages (from hpbandster->autoPyTorch==0.0.2) (1.41)\n",
      "Requirement already satisfied: Pyro4 in /Users/ashish.jha/opt/anaconda3/envs/mastering_pytorch/lib/python3.9/site-packages (from hpbandster->autoPyTorch==0.0.2) (4.82)\n",
      "Requirement already satisfied: imbalanced-learn in /Users/ashish.jha/opt/anaconda3/envs/mastering_pytorch/lib/python3.9/site-packages (from imblearn->autoPyTorch==0.0.2) (0.9.1)\n",
      "Requirement already satisfied: python-dateutil in /Users/ashish.jha/opt/anaconda3/envs/mastering_pytorch/lib/python3.9/site-packages (from openml->autoPyTorch==0.0.2) (2.8.2)\n",
      "Requirement already satisfied: pyarrow in /Users/ashish.jha/opt/anaconda3/envs/mastering_pytorch/lib/python3.9/site-packages (from openml->autoPyTorch==0.0.2) (9.0.0)\n",
      "Requirement already satisfied: liac-arff>=2.4.0 in /Users/ashish.jha/opt/anaconda3/envs/mastering_pytorch/lib/python3.9/site-packages (from openml->autoPyTorch==0.0.2) (2.5.0)\n",
      "Requirement already satisfied: requests in /Users/ashish.jha/opt/anaconda3/envs/mastering_pytorch/lib/python3.9/site-packages (from openml->autoPyTorch==0.0.2) (2.28.1)\n",
      "Requirement already satisfied: minio in /Users/ashish.jha/opt/anaconda3/envs/mastering_pytorch/lib/python3.9/site-packages (from openml->autoPyTorch==0.0.2) (7.1.11)\n",
      "Requirement already satisfied: xmltodict in /Users/ashish.jha/opt/anaconda3/envs/mastering_pytorch/lib/python3.9/site-packages (from openml->autoPyTorch==0.0.2) (0.13.0)\n",
      "Requirement already satisfied: pytz>=2020.1 in /Users/ashish.jha/opt/anaconda3/envs/mastering_pytorch/lib/python3.9/site-packages (from pandas->autoPyTorch==0.0.2) (2022.1)\n",
      "Requirement already satisfied: psutil in /Users/ashish.jha/opt/anaconda3/envs/mastering_pytorch/lib/python3.9/site-packages (from pynisher->autoPyTorch==0.0.2) (5.9.1)\n",
      "Requirement already satisfied: packaging>=21.3 in /Users/ashish.jha/opt/anaconda3/envs/mastering_pytorch/lib/python3.9/site-packages (from statsmodels->autoPyTorch==0.0.2) (21.3)\n",
      "Requirement already satisfied: patsy>=0.5.2 in /Users/ashish.jha/opt/anaconda3/envs/mastering_pytorch/lib/python3.9/site-packages (from statsmodels->autoPyTorch==0.0.2) (0.5.2)\n",
      "Requirement already satisfied: protobuf in /Users/ashish.jha/opt/anaconda3/envs/mastering_pytorch/lib/python3.9/site-packages (from tensorboard-logger->autoPyTorch==0.0.2) (3.19.4)\n",
      "Requirement already satisfied: pillow>=4.1.1 in /Users/ashish.jha/opt/anaconda3/envs/mastering_pytorch/lib/python3.9/site-packages (from tensorboard-logger->autoPyTorch==0.0.2) (9.2.0)\n",
      "Requirement already satisfied: six in /Users/ashish.jha/opt/anaconda3/envs/mastering_pytorch/lib/python3.9/site-packages (from tensorboard-logger->autoPyTorch==0.0.2) (1.16.0)\n",
      "Collecting torch\n",
      "  Using cached torch-1.12.0-cp39-none-macosx_10_9_x86_64.whl (133.6 MB)\n",
      "Collecting scikit-learn>=0.20.0\n",
      "  Using cached scikit_learn-1.1.2-cp39-cp39-macosx_10_9_x86_64.whl (8.7 MB)\n",
      "Requirement already satisfied: certifi in /Users/ashish.jha/opt/anaconda3/envs/mastering_pytorch/lib/python3.9/site-packages (from minio->openml->autoPyTorch==0.0.2) (2022.6.15)\n",
      "Requirement already satisfied: urllib3 in /Users/ashish.jha/opt/anaconda3/envs/mastering_pytorch/lib/python3.9/site-packages (from minio->openml->autoPyTorch==0.0.2) (1.26.11)\n",
      "Requirement already satisfied: charset-normalizer<3,>=2 in /Users/ashish.jha/opt/anaconda3/envs/mastering_pytorch/lib/python3.9/site-packages (from requests->openml->autoPyTorch==0.0.2) (2.1.0)\n",
      "Requirement already satisfied: idna<4,>=2.5 in /Users/ashish.jha/opt/anaconda3/envs/mastering_pytorch/lib/python3.9/site-packages (from requests->openml->autoPyTorch==0.0.2) (3.3)\n",
      "\u001b[33mWARNING: Ignoring invalid distribution -orch (/Users/ashish.jha/opt/anaconda3/envs/mastering_pytorch/lib/python3.9/site-packages)\u001b[0m\u001b[33m\n",
      "\u001b[0mInstalling collected packages: torch, scikit-learn, autoPyTorch\n",
      "  Attempting uninstall: torch\n",
      "\u001b[33m    WARNING: Ignoring invalid distribution -orch (/Users/ashish.jha/opt/anaconda3/envs/mastering_pytorch/lib/python3.9/site-packages)\u001b[0m\u001b[33m\n",
      "\u001b[0m    Found existing installation: torch 1.12.1\n",
      "    Uninstalling torch-1.12.1:\n",
      "      Successfully uninstalled torch-1.12.1\n",
      "  Attempting uninstall: scikit-learn\n",
      "\u001b[33m    WARNING: Ignoring invalid distribution -orch (/Users/ashish.jha/opt/anaconda3/envs/mastering_pytorch/lib/python3.9/site-packages)\u001b[0m\u001b[33m\n",
      "\u001b[0m\u001b[33m    WARNING: No metadata found in /Users/ashish.jha/opt/anaconda3/envs/mastering_pytorch/lib/python3.9/site-packages\u001b[0m\u001b[33m\n",
      "\u001b[0m    Found existing installation: scikit-learn 0.24.2\n",
      "\u001b[33m    WARNING: No metadata found in /Users/ashish.jha/opt/anaconda3/envs/mastering_pytorch/lib/python3.9/site-packages\u001b[0m\u001b[33m\n",
      "\u001b[0m\u001b[33m    WARNING: No metadata found in /Users/ashish.jha/opt/anaconda3/envs/mastering_pytorch/lib/python3.9/site-packages\u001b[0m\u001b[33m\n",
      "\u001b[0m\u001b[33m    WARNING: No metadata found in /Users/ashish.jha/opt/anaconda3/envs/mastering_pytorch/lib/python3.9/site-packages\u001b[0m\u001b[33m\n",
      "\u001b[0m\u001b[33m    WARNING: No metadata found in /Users/ashish.jha/opt/anaconda3/envs/mastering_pytorch/lib/python3.9/site-packages\u001b[0m\u001b[33m\n",
      "\u001b[0m\u001b[33m    WARNING: No metadata found in /Users/ashish.jha/opt/anaconda3/envs/mastering_pytorch/lib/python3.9/site-packages\u001b[0m\u001b[33m\n",
      "\u001b[0m\u001b[33m    WARNING: No metadata found in /Users/ashish.jha/opt/anaconda3/envs/mastering_pytorch/lib/python3.9/site-packages\u001b[0m\u001b[33m\n",
      "\u001b[0m    Can't uninstall 'scikit-learn'. No files were found to uninstall.\n"
     ]
    },
    {
     "name": "stdout",
     "output_type": "stream",
     "text": [
      "  Attempting uninstall: autoPyTorch\n",
      "\u001b[33m    WARNING: Ignoring invalid distribution -orch (/Users/ashish.jha/opt/anaconda3/envs/mastering_pytorch/lib/python3.9/site-packages)\u001b[0m\u001b[33m\n",
      "\u001b[0m\u001b[33m    WARNING: No metadata found in /Users/ashish.jha/opt/anaconda3/envs/mastering_pytorch/lib/python3.9/site-packages\u001b[0m\u001b[33m\n",
      "\u001b[0m    Found existing installation: autopytorch 0.2.1\n",
      "\u001b[33m    WARNING: No metadata found in /Users/ashish.jha/opt/anaconda3/envs/mastering_pytorch/lib/python3.9/site-packages\u001b[0m\u001b[33m\n",
      "\u001b[0m\u001b[33m    WARNING: No metadata found in /Users/ashish.jha/opt/anaconda3/envs/mastering_pytorch/lib/python3.9/site-packages\u001b[0m\u001b[33m\n",
      "\u001b[0m\u001b[33m    WARNING: No metadata found in /Users/ashish.jha/opt/anaconda3/envs/mastering_pytorch/lib/python3.9/site-packages\u001b[0m\u001b[33m\n",
      "\u001b[0m\u001b[33m    WARNING: No metadata found in /Users/ashish.jha/opt/anaconda3/envs/mastering_pytorch/lib/python3.9/site-packages\u001b[0m\u001b[33m\n",
      "\u001b[0m\u001b[33m    WARNING: No metadata found in /Users/ashish.jha/opt/anaconda3/envs/mastering_pytorch/lib/python3.9/site-packages\u001b[0m\u001b[33m\n",
      "\u001b[0m\u001b[33m    WARNING: No metadata found in /Users/ashish.jha/opt/anaconda3/envs/mastering_pytorch/lib/python3.9/site-packages\u001b[0m\u001b[33m\n",
      "\u001b[0m    Can't uninstall 'autopytorch'. No files were found to uninstall.\n",
      "\u001b[33mWARNING: Ignoring invalid distribution -orch (/Users/ashish.jha/opt/anaconda3/envs/mastering_pytorch/lib/python3.9/site-packages)\u001b[0m\u001b[33m\n",
      "\u001b[0m\u001b[33mWARNING: Ignoring invalid distribution -orch (/Users/ashish.jha/opt/anaconda3/envs/mastering_pytorch/lib/python3.9/site-packages)\u001b[0m\u001b[33m\n",
      "\u001b[0m\u001b[33mWARNING: Ignoring invalid distribution -orch (/Users/ashish.jha/opt/anaconda3/envs/mastering_pytorch/lib/python3.9/site-packages)\u001b[0m\u001b[33m\n",
      "\u001b[0m\u001b[31mERROR: pip's dependency resolver does not currently take into account all the packages that are installed. This behaviour is the source of the following dependency conflicts.\n",
      "torchtext 0.13.1 requires torch==1.12.1, but you have torch 1.12.0 which is incompatible.\n",
      "torchdata 0.4.1 requires torch==1.12.1, but you have torch 1.12.0 which is incompatible.\u001b[0m\u001b[31m\n",
      "\u001b[0mSuccessfully installed autoPyTorch-0.0.2 scikit-learn-1.1.2 torch-1.12.0\n",
      "\u001b[33mWARNING: Ignoring invalid distribution -orch (/Users/ashish.jha/opt/anaconda3/envs/mastering_pytorch/lib/python3.9/site-packages)\u001b[0m\u001b[33m\n",
      "\u001b[0m\u001b[33mWARNING: Ignoring invalid distribution -orch (/Users/ashish.jha/opt/anaconda3/envs/mastering_pytorch/lib/python3.9/site-packages)\u001b[0m\u001b[33m\n",
      "\u001b[0m\u001b[33mWARNING: Ignoring invalid distribution -orch (/Users/ashish.jha/opt/anaconda3/envs/mastering_pytorch/lib/python3.9/site-packages)\u001b[0m\u001b[33m\n",
      "\u001b[0m\u001b[33mWARNING: Ignoring invalid distribution -orch (/Users/ashish.jha/opt/anaconda3/envs/mastering_pytorch/lib/python3.9/site-packages)\u001b[0m\u001b[33m\n",
      "\u001b[0m\u001b[33mWARNING: Ignoring invalid distribution -orch (/Users/ashish.jha/opt/anaconda3/envs/mastering_pytorch/lib/python3.9/site-packages)\u001b[0m\u001b[33m\n",
      "\u001b[0mRequirement already satisfied: torchviz==0.0.2 in /Users/ashish.jha/opt/anaconda3/envs/mastering_pytorch/lib/python3.9/site-packages (0.0.2)\n",
      "Requirement already satisfied: graphviz in /Users/ashish.jha/opt/anaconda3/envs/mastering_pytorch/lib/python3.9/site-packages (from torchviz==0.0.2) (0.20.1)\n",
      "Requirement already satisfied: torch in /Users/ashish.jha/opt/anaconda3/envs/mastering_pytorch/lib/python3.9/site-packages (from torchviz==0.0.2) (1.12.0)\n",
      "Requirement already satisfied: typing-extensions in /Users/ashish.jha/opt/anaconda3/envs/mastering_pytorch/lib/python3.9/site-packages (from torch->torchviz==0.0.2) (4.3.0)\n",
      "\u001b[33mWARNING: Ignoring invalid distribution -orch (/Users/ashish.jha/opt/anaconda3/envs/mastering_pytorch/lib/python3.9/site-packages)\u001b[0m\u001b[33m\n",
      "\u001b[0m\u001b[33mWARNING: Error parsing requirements for configspace: [Errno 2] No such file or directory: '/Users/ashish.jha/opt/anaconda3/envs/mastering_pytorch/lib/python3.9/site-packages/ConfigSpace-0.6.0.dist-info/METADATA'\u001b[0m\u001b[33m\n",
      "\u001b[0m\u001b[33mWARNING: Ignoring invalid distribution -orch (/Users/ashish.jha/opt/anaconda3/envs/mastering_pytorch/lib/python3.9/site-packages)\u001b[0m\u001b[33m\n",
      "\u001b[0m\u001b[33mWARNING: Ignoring invalid distribution -orch (/Users/ashish.jha/opt/anaconda3/envs/mastering_pytorch/lib/python3.9/site-packages)\u001b[0m\u001b[33m\n",
      "\u001b[0m\u001b[33mWARNING: Ignoring invalid distribution -orch (/Users/ashish.jha/opt/anaconda3/envs/mastering_pytorch/lib/python3.9/site-packages)\u001b[0m\u001b[33m\n",
      "\u001b[0m\u001b[33mWARNING: Ignoring invalid distribution -orch (/Users/ashish.jha/opt/anaconda3/envs/mastering_pytorch/lib/python3.9/site-packages)\u001b[0m\u001b[33m\n",
      "\u001b[0m\u001b[33mWARNING: Ignoring invalid distribution -orch (/Users/ashish.jha/opt/anaconda3/envs/mastering_pytorch/lib/python3.9/site-packages)\u001b[0m\u001b[33m\n",
      "\u001b[0mRequirement already satisfied: configspace==0.5.0 in /Users/ashish.jha/opt/anaconda3/envs/mastering_pytorch/lib/python3.9/site-packages (0.5.0)\n",
      "Requirement already satisfied: pyparsing in /Users/ashish.jha/opt/anaconda3/envs/mastering_pytorch/lib/python3.9/site-packages (from configspace==0.5.0) (3.0.9)\n",
      "Requirement already satisfied: cython in /Users/ashish.jha/opt/anaconda3/envs/mastering_pytorch/lib/python3.9/site-packages (from configspace==0.5.0) (0.29.32)\n",
      "Requirement already satisfied: numpy in /Users/ashish.jha/opt/anaconda3/envs/mastering_pytorch/lib/python3.9/site-packages (from configspace==0.5.0) (1.22.4)\n",
      "Requirement already satisfied: scipy in /Users/ashish.jha/opt/anaconda3/envs/mastering_pytorch/lib/python3.9/site-packages (from configspace==0.5.0) (1.8.1)\n",
      "\u001b[33mWARNING: Ignoring invalid distribution -orch (/Users/ashish.jha/opt/anaconda3/envs/mastering_pytorch/lib/python3.9/site-packages)\u001b[0m\u001b[33m\n",
      "\u001b[0m\u001b[33mWARNING: Ignoring invalid distribution -orch (/Users/ashish.jha/opt/anaconda3/envs/mastering_pytorch/lib/python3.9/site-packages)\u001b[0m\u001b[33m\n",
      "\u001b[0m\u001b[33mWARNING: Ignoring invalid distribution -orch (/Users/ashish.jha/opt/anaconda3/envs/mastering_pytorch/lib/python3.9/site-packages)\u001b[0m\u001b[33m\n",
      "\u001b[0m\u001b[33mWARNING: Ignoring invalid distribution -orch (/Users/ashish.jha/opt/anaconda3/envs/mastering_pytorch/lib/python3.9/site-packages)\u001b[0m\u001b[33m\n",
      "\u001b[0m\u001b[33mWARNING: Ignoring invalid distribution -orch (/Users/ashish.jha/opt/anaconda3/envs/mastering_pytorch/lib/python3.9/site-packages)\u001b[0m\u001b[33m\n",
      "\u001b[0m\u001b[33mWARNING: Ignoring invalid distribution -orch (/Users/ashish.jha/opt/anaconda3/envs/mastering_pytorch/lib/python3.9/site-packages)\u001b[0m\u001b[33m\n",
      "\u001b[0mCollecting git+https://github.com/shukon/HpBandSter.git\n",
      "  Cloning https://github.com/shukon/HpBandSter.git to /private/var/folders/gs/mjlw0j210yz02z4yrv9gshdm0000gq/T/pip-req-build-g81qwuzh\n",
      "  Running command git clone --filter=blob:none --quiet https://github.com/shukon/HpBandSter.git /private/var/folders/gs/mjlw0j210yz02z4yrv9gshdm0000gq/T/pip-req-build-g81qwuzh\n",
      "  Resolved https://github.com/shukon/HpBandSter.git to commit 89eb5337a4841077d00b238f75b8e2ad9c37476f\n",
      "  Preparing metadata (setup.py) ... \u001b[?25ldone\n",
      "\u001b[?25hRequirement already satisfied: Pyro4 in /Users/ashish.jha/opt/anaconda3/envs/mastering_pytorch/lib/python3.9/site-packages (from hpbandster==0.7.4) (4.82)\n",
      "Requirement already satisfied: serpent in /Users/ashish.jha/opt/anaconda3/envs/mastering_pytorch/lib/python3.9/site-packages (from hpbandster==0.7.4) (1.41)\n",
      "Requirement already satisfied: ConfigSpace in /Users/ashish.jha/opt/anaconda3/envs/mastering_pytorch/lib/python3.9/site-packages (from hpbandster==0.7.4) (0.5.0)\n",
      "Requirement already satisfied: numpy in /Users/ashish.jha/opt/anaconda3/envs/mastering_pytorch/lib/python3.9/site-packages (from hpbandster==0.7.4) (1.22.4)\n",
      "Requirement already satisfied: statsmodels in /Users/ashish.jha/opt/anaconda3/envs/mastering_pytorch/lib/python3.9/site-packages (from hpbandster==0.7.4) (0.13.2)\n",
      "Requirement already satisfied: scipy in /Users/ashish.jha/opt/anaconda3/envs/mastering_pytorch/lib/python3.9/site-packages (from hpbandster==0.7.4) (1.8.1)\n",
      "Requirement already satisfied: netifaces in /Users/ashish.jha/opt/anaconda3/envs/mastering_pytorch/lib/python3.9/site-packages (from hpbandster==0.7.4) (0.11.0)\n",
      "Requirement already satisfied: cython in /Users/ashish.jha/opt/anaconda3/envs/mastering_pytorch/lib/python3.9/site-packages (from ConfigSpace->hpbandster==0.7.4) (0.29.32)\n",
      "Requirement already satisfied: pyparsing in /Users/ashish.jha/opt/anaconda3/envs/mastering_pytorch/lib/python3.9/site-packages (from ConfigSpace->hpbandster==0.7.4) (3.0.9)\n",
      "Requirement already satisfied: packaging>=21.3 in /Users/ashish.jha/opt/anaconda3/envs/mastering_pytorch/lib/python3.9/site-packages (from statsmodels->hpbandster==0.7.4) (21.3)\n",
      "Requirement already satisfied: patsy>=0.5.2 in /Users/ashish.jha/opt/anaconda3/envs/mastering_pytorch/lib/python3.9/site-packages (from statsmodels->hpbandster==0.7.4) (0.5.2)\n",
      "Requirement already satisfied: pandas>=0.25 in /Users/ashish.jha/opt/anaconda3/envs/mastering_pytorch/lib/python3.9/site-packages (from statsmodels->hpbandster==0.7.4) (1.4.3)\n"
     ]
    },
    {
     "name": "stdout",
     "output_type": "stream",
     "text": [
      "Requirement already satisfied: pytz>=2020.1 in /Users/ashish.jha/opt/anaconda3/envs/mastering_pytorch/lib/python3.9/site-packages (from pandas>=0.25->statsmodels->hpbandster==0.7.4) (2022.1)\n",
      "Requirement already satisfied: python-dateutil>=2.8.1 in /Users/ashish.jha/opt/anaconda3/envs/mastering_pytorch/lib/python3.9/site-packages (from pandas>=0.25->statsmodels->hpbandster==0.7.4) (2.8.2)\n",
      "Requirement already satisfied: six in /Users/ashish.jha/opt/anaconda3/envs/mastering_pytorch/lib/python3.9/site-packages (from patsy>=0.5.2->statsmodels->hpbandster==0.7.4) (1.16.0)\n",
      "\u001b[33mWARNING: Ignoring invalid distribution -orch (/Users/ashish.jha/opt/anaconda3/envs/mastering_pytorch/lib/python3.9/site-packages)\u001b[0m\u001b[33m\n",
      "\u001b[0m\u001b[33mWARNING: Ignoring invalid distribution -orch (/Users/ashish.jha/opt/anaconda3/envs/mastering_pytorch/lib/python3.9/site-packages)\u001b[0m\u001b[33m\n",
      "\u001b[0m\u001b[33mWARNING: Ignoring invalid distribution -orch (/Users/ashish.jha/opt/anaconda3/envs/mastering_pytorch/lib/python3.9/site-packages)\u001b[0m\u001b[33m\n",
      "\u001b[0m\u001b[33mWARNING: Ignoring invalid distribution -orch (/Users/ashish.jha/opt/anaconda3/envs/mastering_pytorch/lib/python3.9/site-packages)\u001b[0m\u001b[33m\n",
      "\u001b[0m\u001b[33mWARNING: Ignoring invalid distribution -orch (/Users/ashish.jha/opt/anaconda3/envs/mastering_pytorch/lib/python3.9/site-packages)\u001b[0m\u001b[33m\n",
      "\u001b[0m\u001b[33mWARNING: Ignoring invalid distribution -orch (/Users/ashish.jha/opt/anaconda3/envs/mastering_pytorch/lib/python3.9/site-packages)\u001b[0m\u001b[33m\n",
      "\u001b[0mRequirement already satisfied: captum==0.5.0 in /Users/ashish.jha/opt/anaconda3/envs/mastering_pytorch/lib/python3.9/site-packages (0.5.0)\n",
      "Requirement already satisfied: matplotlib in /Users/ashish.jha/opt/anaconda3/envs/mastering_pytorch/lib/python3.9/site-packages (from captum==0.5.0) (3.5.2)\n",
      "Requirement already satisfied: torch>=1.6 in /Users/ashish.jha/opt/anaconda3/envs/mastering_pytorch/lib/python3.9/site-packages (from captum==0.5.0) (1.12.0)\n",
      "Requirement already satisfied: numpy in /Users/ashish.jha/opt/anaconda3/envs/mastering_pytorch/lib/python3.9/site-packages (from captum==0.5.0) (1.22.4)\n",
      "Requirement already satisfied: typing-extensions in /Users/ashish.jha/opt/anaconda3/envs/mastering_pytorch/lib/python3.9/site-packages (from torch>=1.6->captum==0.5.0) (4.3.0)\n",
      "Requirement already satisfied: pyparsing>=2.2.1 in /Users/ashish.jha/opt/anaconda3/envs/mastering_pytorch/lib/python3.9/site-packages (from matplotlib->captum==0.5.0) (3.0.9)\n",
      "Requirement already satisfied: packaging>=20.0 in /Users/ashish.jha/opt/anaconda3/envs/mastering_pytorch/lib/python3.9/site-packages (from matplotlib->captum==0.5.0) (21.3)\n",
      "Requirement already satisfied: pillow>=6.2.0 in /Users/ashish.jha/opt/anaconda3/envs/mastering_pytorch/lib/python3.9/site-packages (from matplotlib->captum==0.5.0) (9.2.0)\n",
      "Requirement already satisfied: fonttools>=4.22.0 in /Users/ashish.jha/opt/anaconda3/envs/mastering_pytorch/lib/python3.9/site-packages (from matplotlib->captum==0.5.0) (4.34.4)\n",
      "Requirement already satisfied: cycler>=0.10 in /Users/ashish.jha/opt/anaconda3/envs/mastering_pytorch/lib/python3.9/site-packages (from matplotlib->captum==0.5.0) (0.11.0)\n",
      "Requirement already satisfied: kiwisolver>=1.0.1 in /Users/ashish.jha/opt/anaconda3/envs/mastering_pytorch/lib/python3.9/site-packages (from matplotlib->captum==0.5.0) (1.4.4)\n",
      "Requirement already satisfied: python-dateutil>=2.7 in /Users/ashish.jha/opt/anaconda3/envs/mastering_pytorch/lib/python3.9/site-packages (from matplotlib->captum==0.5.0) (2.8.2)\n",
      "Requirement already satisfied: six>=1.5 in /Users/ashish.jha/opt/anaconda3/envs/mastering_pytorch/lib/python3.9/site-packages (from python-dateutil>=2.7->matplotlib->captum==0.5.0) (1.16.0)\n",
      "\u001b[33mWARNING: Ignoring invalid distribution -orch (/Users/ashish.jha/opt/anaconda3/envs/mastering_pytorch/lib/python3.9/site-packages)\u001b[0m\u001b[33m\n",
      "\u001b[0m\u001b[33mWARNING: Ignoring invalid distribution -orch (/Users/ashish.jha/opt/anaconda3/envs/mastering_pytorch/lib/python3.9/site-packages)\u001b[0m\u001b[33m\n",
      "\u001b[0m\u001b[33mWARNING: Ignoring invalid distribution -orch (/Users/ashish.jha/opt/anaconda3/envs/mastering_pytorch/lib/python3.9/site-packages)\u001b[0m\u001b[33m\n",
      "\u001b[0m\u001b[33mWARNING: Ignoring invalid distribution -orch (/Users/ashish.jha/opt/anaconda3/envs/mastering_pytorch/lib/python3.9/site-packages)\u001b[0m\u001b[33m\n",
      "\u001b[0m"
     ]
    }
   ],
   "source": [
    "!pip install torch==1.12\n",
    "!pip install torchvision==0.13\n",
    "!pip install nltk==3.7\n",
    "!pip install torchtext==0.13.1\n",
    "!pip install networkx==2.8.5\n",
    "!pip install torchviz==0.0.2\n",
    "!pip install matplotlib==3.5.2\n",
    "!pip install scikit-image==0.19.3\n",
    "!pip install gym==0.25.1\n",
    "!pip install atari-py==0.2.9\n",
    "!pip install opencv-python==4.6.0.66\n",
    "!pip install autoPyTorch==0.0.2\n",
    "!pip install torchviz==0.0.2\n",
    "!pip install configspace==0.5.0\n",
    "!pip install git+https://github.com/shukon/HpBandSter.git\n",
    "!pip install captum==0.5.0"
   ]
  },
  {
   "cell_type": "markdown",
   "metadata": {},
   "source": [
    "## import modules"
   ]
  },
  {
   "cell_type": "code",
   "execution_count": 2,
   "metadata": {},
   "outputs": [],
   "source": [
    "import torch\n",
    "import torch.nn as nn\n",
    "import torch.nn.functional as F\n",
    "import torch.optim as optim\n",
    "from torch.utils.data import DataLoader\n",
    "from torchvision import datasets, transforms\n",
    "\n",
    "import matplotlib.pyplot as plt\n",
    "import numpy as np\n",
    "\n",
    "from captum.attr import IntegratedGradients\n",
    "from captum.attr import Saliency\n",
    "from captum.attr import DeepLift\n",
    "from captum.attr import visualization as viz"
   ]
  },
  {
   "cell_type": "code",
   "execution_count": 4,
   "metadata": {},
   "outputs": [],
   "source": [
    "np.random.seed(123)\n",
    "torch.use_deterministic_algorithms(True)"
   ]
  },
  {
   "cell_type": "markdown",
   "metadata": {},
   "source": [
    "## define model architecture"
   ]
  },
  {
   "cell_type": "code",
   "execution_count": 5,
   "metadata": {},
   "outputs": [],
   "source": [
    "class ConvNet(nn.Module):\n",
    "    def __init__(self):\n",
    "        super(ConvNet, self).__init__()\n",
    "        self.cn1 = nn.Conv2d(1, 16, 3, 1)\n",
    "        self.cn2 = nn.Conv2d(16, 32, 3, 1)\n",
    "        self.dp1 = nn.Dropout2d(0.10)\n",
    "        self.dp2 = nn.Dropout2d(0.25)\n",
    "        self.fc1 = nn.Linear(4608, 64) # 4608 is basically 12 X 12 X 32\n",
    "        self.fc2 = nn.Linear(64, 10)\n",
    " \n",
    "    def forward(self, x):\n",
    "        x = self.cn1(x)\n",
    "        x = F.relu(x)\n",
    "        x = self.cn2(x)\n",
    "        x = F.relu(x)\n",
    "        x = F.max_pool2d(x, 2)\n",
    "        x = self.dp1(x)\n",
    "        x = torch.flatten(x, 1)\n",
    "        x = self.fc1(x)\n",
    "        x = F.relu(x)\n",
    "        x = self.dp2(x)\n",
    "        x = self.fc2(x)\n",
    "        op = F.log_softmax(x, dim=1)\n",
    "        return op"
   ]
  },
  {
   "cell_type": "markdown",
   "metadata": {},
   "source": [
    "## define training and inference routines"
   ]
  },
  {
   "cell_type": "code",
   "execution_count": 6,
   "metadata": {},
   "outputs": [],
   "source": [
    "def train(model, device, train_dataloader, optim, epoch):\n",
    "    model.train()\n",
    "    for b_i, (X, y) in enumerate(train_dataloader):\n",
    "        X, y = X.to(device), y.to(device)\n",
    "        optim.zero_grad()\n",
    "        pred_prob = model(X)\n",
    "        loss = F.nll_loss(pred_prob, y) # nll is the negative likelihood loss\n",
    "        loss.backward()\n",
    "        optim.step()\n",
    "        if b_i % 10 == 0:\n",
    "            print('epoch: {} [{}/{} ({:.0f}%)]\\t training loss: {:.6f}'.format(\n",
    "                epoch, b_i * len(X), len(train_dataloader.dataset),\n",
    "                100. * b_i / len(train_dataloader), loss.item()))"
   ]
  },
  {
   "cell_type": "code",
   "execution_count": 7,
   "metadata": {},
   "outputs": [],
   "source": [
    "def test(model, device, test_dataloader):\n",
    "    model.eval()\n",
    "    loss = 0\n",
    "    success = 0\n",
    "    with torch.no_grad():\n",
    "        for X, y in test_dataloader:\n",
    "            X, y = X.to(device), y.to(device)\n",
    "            pred_prob = model(X)\n",
    "            loss += F.nll_loss(pred_prob, y, reduction='sum').item()  # loss summed across the batch\n",
    "            pred = pred_prob.argmax(dim=1, keepdim=True)  # us argmax to get the most likely prediction\n",
    "            success += pred.eq(y.view_as(pred)).sum().item()\n",
    "\n",
    "    loss /= len(test_dataloader.dataset)\n",
    "\n",
    "    print('\\nTest dataset: Overall Loss: {:.4f}, Overall Accuracy: {}/{} ({:.0f}%)\\n'.format(\n",
    "        loss, success, len(test_dataloader.dataset),\n",
    "        100. * success / len(test_dataloader.dataset)))"
   ]
  },
  {
   "cell_type": "markdown",
   "metadata": {},
   "source": [
    "## create data loaders"
   ]
  },
  {
   "cell_type": "code",
   "execution_count": 8,
   "metadata": {},
   "outputs": [],
   "source": [
    "# The mean and standard deviation values are calculated as the mean of all pixel values of all images in the training dataset\n",
    "train_dataloader = torch.utils.data.DataLoader(\n",
    "    datasets.MNIST('../data', train=True, download=True,\n",
    "                   transform=transforms.Compose([\n",
    "                       transforms.ToTensor(),\n",
    "                       transforms.Normalize((0.1302,), (0.3069,))])), # train_X.mean()/256. and train_X.std()/256.\n",
    "    batch_size=32, shuffle=True)\n",
    "\n",
    "test_dataloader = torch.utils.data.DataLoader(\n",
    "    datasets.MNIST('../data', train=False, \n",
    "                   transform=transforms.Compose([\n",
    "                       transforms.ToTensor(),\n",
    "                       transforms.Normalize((0.1302,), (0.3069,)) \n",
    "                   ])),\n",
    "    batch_size=500, shuffle=True)"
   ]
  },
  {
   "cell_type": "markdown",
   "metadata": {},
   "source": [
    "## define optimizer and run training epochs"
   ]
  },
  {
   "cell_type": "code",
   "execution_count": 9,
   "metadata": {},
   "outputs": [],
   "source": [
    "torch.manual_seed(0)\n",
    "device = torch.device(\"cpu\")\n",
    "\n",
    "model = ConvNet()\n",
    "optimizer = optim.Adadelta(model.parameters(), lr=0.5)"
   ]
  },
  {
   "cell_type": "markdown",
   "metadata": {},
   "source": [
    "## model training"
   ]
  },
  {
   "cell_type": "code",
   "execution_count": 10,
   "metadata": {
    "scrolled": true
   },
   "outputs": [
    {
     "name": "stderr",
     "output_type": "stream",
     "text": [
      "/Users/ashish.jha/opt/anaconda3/envs/mastering_pytorch/lib/python3.9/site-packages/torch/nn/functional.py:1331: UserWarning: dropout2d: Received a 2-D input to dropout2d, which is deprecated and will result in an error in a future release. To retain the behavior and silence this warning, please use dropout instead. Note that dropout2d exists to provide channel-wise dropout on inputs with 2 spatial dimensions, a channel dimension, and an optional batch dimension (i.e. 3D or 4D inputs).\n",
      "  warnings.warn(warn_msg)\n"
     ]
    },
    {
     "name": "stdout",
     "output_type": "stream",
     "text": [
      "epoch: 1 [0/60000 (0%)]\t training loss: 2.310609\n",
      "epoch: 1 [320/60000 (1%)]\t training loss: 1.924133\n",
      "epoch: 1 [640/60000 (1%)]\t training loss: 1.313336\n",
      "epoch: 1 [960/60000 (2%)]\t training loss: 0.796470\n",
      "epoch: 1 [1280/60000 (2%)]\t training loss: 0.819801\n",
      "epoch: 1 [1600/60000 (3%)]\t training loss: 0.678430\n",
      "epoch: 1 [1920/60000 (3%)]\t training loss: 0.477187\n",
      "epoch: 1 [2240/60000 (4%)]\t training loss: 0.529062\n",
      "epoch: 1 [2560/60000 (4%)]\t training loss: 0.468829\n",
      "epoch: 1 [2880/60000 (5%)]\t training loss: 0.242887\n",
      "epoch: 1 [3200/60000 (5%)]\t training loss: 0.519632\n",
      "epoch: 1 [3520/60000 (6%)]\t training loss: 0.262917\n",
      "epoch: 1 [3840/60000 (6%)]\t training loss: 0.467169\n",
      "epoch: 1 [4160/60000 (7%)]\t training loss: 0.424967\n",
      "epoch: 1 [4480/60000 (7%)]\t training loss: 0.316685\n",
      "epoch: 1 [4800/60000 (8%)]\t training loss: 0.497946\n",
      "epoch: 1 [5120/60000 (9%)]\t training loss: 0.154707\n",
      "epoch: 1 [5440/60000 (9%)]\t training loss: 0.371073\n",
      "epoch: 1 [5760/60000 (10%)]\t training loss: 0.083154\n",
      "epoch: 1 [6080/60000 (10%)]\t training loss: 0.175202\n",
      "epoch: 1 [6400/60000 (11%)]\t training loss: 0.291596\n",
      "epoch: 1 [6720/60000 (11%)]\t training loss: 0.072844\n",
      "epoch: 1 [7040/60000 (12%)]\t training loss: 0.329937\n",
      "epoch: 1 [7360/60000 (12%)]\t training loss: 0.038123\n",
      "epoch: 1 [7680/60000 (13%)]\t training loss: 0.365540\n",
      "epoch: 1 [8000/60000 (13%)]\t training loss: 0.221202\n",
      "epoch: 1 [8320/60000 (14%)]\t training loss: 0.371912\n",
      "epoch: 1 [8640/60000 (14%)]\t training loss: 0.202585\n",
      "epoch: 1 [8960/60000 (15%)]\t training loss: 0.058401\n",
      "epoch: 1 [9280/60000 (15%)]\t training loss: 0.326645\n",
      "epoch: 1 [9600/60000 (16%)]\t training loss: 0.237990\n",
      "epoch: 1 [9920/60000 (17%)]\t training loss: 0.197578\n",
      "epoch: 1 [10240/60000 (17%)]\t training loss: 0.203406\n",
      "epoch: 1 [10560/60000 (18%)]\t training loss: 0.417197\n",
      "epoch: 1 [10880/60000 (18%)]\t training loss: 0.076786\n",
      "epoch: 1 [11200/60000 (19%)]\t training loss: 0.050403\n",
      "epoch: 1 [11520/60000 (19%)]\t training loss: 0.234648\n",
      "epoch: 1 [11840/60000 (20%)]\t training loss: 0.057915\n",
      "epoch: 1 [12160/60000 (20%)]\t training loss: 0.386026\n",
      "epoch: 1 [12480/60000 (21%)]\t training loss: 0.032246\n",
      "epoch: 1 [12800/60000 (21%)]\t training loss: 0.091289\n",
      "epoch: 1 [13120/60000 (22%)]\t training loss: 0.109898\n",
      "epoch: 1 [13440/60000 (22%)]\t training loss: 0.166075\n",
      "epoch: 1 [13760/60000 (23%)]\t training loss: 0.055113\n",
      "epoch: 1 [14080/60000 (23%)]\t training loss: 0.052191\n",
      "epoch: 1 [14400/60000 (24%)]\t training loss: 0.085119\n",
      "epoch: 1 [14720/60000 (25%)]\t training loss: 0.161323\n",
      "epoch: 1 [15040/60000 (25%)]\t training loss: 0.361672\n",
      "epoch: 1 [15360/60000 (26%)]\t training loss: 0.082399\n",
      "epoch: 1 [15680/60000 (26%)]\t training loss: 0.120748\n",
      "epoch: 1 [16000/60000 (27%)]\t training loss: 0.091515\n",
      "epoch: 1 [16320/60000 (27%)]\t training loss: 0.165569\n",
      "epoch: 1 [16640/60000 (28%)]\t training loss: 0.039226\n",
      "epoch: 1 [16960/60000 (28%)]\t training loss: 0.311345\n",
      "epoch: 1 [17280/60000 (29%)]\t training loss: 0.056156\n",
      "epoch: 1 [17600/60000 (29%)]\t training loss: 0.033082\n",
      "epoch: 1 [17920/60000 (30%)]\t training loss: 0.041171\n",
      "epoch: 1 [18240/60000 (30%)]\t training loss: 0.022212\n",
      "epoch: 1 [18560/60000 (31%)]\t training loss: 0.048296\n",
      "epoch: 1 [18880/60000 (31%)]\t training loss: 0.208278\n",
      "epoch: 1 [19200/60000 (32%)]\t training loss: 0.081490\n",
      "epoch: 1 [19520/60000 (33%)]\t training loss: 0.053298\n",
      "epoch: 1 [19840/60000 (33%)]\t training loss: 0.073377\n",
      "epoch: 1 [20160/60000 (34%)]\t training loss: 0.110558\n",
      "epoch: 1 [20480/60000 (34%)]\t training loss: 0.064500\n",
      "epoch: 1 [20800/60000 (35%)]\t training loss: 0.223161\n",
      "epoch: 1 [21120/60000 (35%)]\t training loss: 0.281652\n",
      "epoch: 1 [21440/60000 (36%)]\t training loss: 0.226155\n",
      "epoch: 1 [21760/60000 (36%)]\t training loss: 0.080764\n",
      "epoch: 1 [22080/60000 (37%)]\t training loss: 0.091594\n",
      "epoch: 1 [22400/60000 (37%)]\t training loss: 0.137987\n",
      "epoch: 1 [22720/60000 (38%)]\t training loss: 0.269463\n",
      "epoch: 1 [23040/60000 (38%)]\t training loss: 0.077316\n",
      "epoch: 1 [23360/60000 (39%)]\t training loss: 0.145632\n",
      "epoch: 1 [23680/60000 (39%)]\t training loss: 0.262074\n",
      "epoch: 1 [24000/60000 (40%)]\t training loss: 0.172739\n",
      "epoch: 1 [24320/60000 (41%)]\t training loss: 0.060116\n",
      "epoch: 1 [24640/60000 (41%)]\t training loss: 0.144769\n",
      "epoch: 1 [24960/60000 (42%)]\t training loss: 0.028676\n",
      "epoch: 1 [25280/60000 (42%)]\t training loss: 0.019472\n",
      "epoch: 1 [25600/60000 (43%)]\t training loss: 0.561370\n",
      "epoch: 1 [25920/60000 (43%)]\t training loss: 0.462314\n",
      "epoch: 1 [26240/60000 (44%)]\t training loss: 0.119219\n",
      "epoch: 1 [26560/60000 (44%)]\t training loss: 0.027335\n",
      "epoch: 1 [26880/60000 (45%)]\t training loss: 0.165398\n",
      "epoch: 1 [27200/60000 (45%)]\t training loss: 0.015198\n",
      "epoch: 1 [27520/60000 (46%)]\t training loss: 0.038244\n",
      "epoch: 1 [27840/60000 (46%)]\t training loss: 0.120652\n",
      "epoch: 1 [28160/60000 (47%)]\t training loss: 0.036380\n",
      "epoch: 1 [28480/60000 (47%)]\t training loss: 0.365926\n",
      "epoch: 1 [28800/60000 (48%)]\t training loss: 0.102674\n",
      "epoch: 1 [29120/60000 (49%)]\t training loss: 0.211693\n",
      "epoch: 1 [29440/60000 (49%)]\t training loss: 0.012908\n",
      "epoch: 1 [29760/60000 (50%)]\t training loss: 0.059565\n",
      "epoch: 1 [30080/60000 (50%)]\t training loss: 0.552917\n",
      "epoch: 1 [30400/60000 (51%)]\t training loss: 0.131238\n",
      "epoch: 1 [30720/60000 (51%)]\t training loss: 0.192656\n",
      "epoch: 1 [31040/60000 (52%)]\t training loss: 0.090906\n",
      "epoch: 1 [31360/60000 (52%)]\t training loss: 0.053426\n",
      "epoch: 1 [31680/60000 (53%)]\t training loss: 0.025051\n",
      "epoch: 1 [32000/60000 (53%)]\t training loss: 0.017087\n",
      "epoch: 1 [32320/60000 (54%)]\t training loss: 0.102049\n",
      "epoch: 1 [32640/60000 (54%)]\t training loss: 0.119944\n",
      "epoch: 1 [32960/60000 (55%)]\t training loss: 0.067212\n",
      "epoch: 1 [33280/60000 (55%)]\t training loss: 0.217799\n",
      "epoch: 1 [33600/60000 (56%)]\t training loss: 0.175126\n",
      "epoch: 1 [33920/60000 (57%)]\t training loss: 0.014184\n",
      "epoch: 1 [34240/60000 (57%)]\t training loss: 0.039682\n",
      "epoch: 1 [34560/60000 (58%)]\t training loss: 0.003684\n",
      "epoch: 1 [34880/60000 (58%)]\t training loss: 0.139418\n",
      "epoch: 1 [35200/60000 (59%)]\t training loss: 0.229340\n",
      "epoch: 1 [35520/60000 (59%)]\t training loss: 0.126132\n",
      "epoch: 1 [35840/60000 (60%)]\t training loss: 0.015808\n",
      "epoch: 1 [36160/60000 (60%)]\t training loss: 0.155424\n",
      "epoch: 1 [36480/60000 (61%)]\t training loss: 0.101188\n",
      "epoch: 1 [36800/60000 (61%)]\t training loss: 0.141061\n",
      "epoch: 1 [37120/60000 (62%)]\t training loss: 0.054613\n",
      "epoch: 1 [37440/60000 (62%)]\t training loss: 0.182750\n",
      "epoch: 1 [37760/60000 (63%)]\t training loss: 0.027526\n",
      "epoch: 1 [38080/60000 (63%)]\t training loss: 0.109294\n",
      "epoch: 1 [38400/60000 (64%)]\t training loss: 0.048687\n",
      "epoch: 1 [38720/60000 (65%)]\t training loss: 0.408164\n",
      "epoch: 1 [39040/60000 (65%)]\t training loss: 0.053339\n",
      "epoch: 1 [39360/60000 (66%)]\t training loss: 0.192822\n",
      "epoch: 1 [39680/60000 (66%)]\t training loss: 0.027606\n",
      "epoch: 1 [40000/60000 (67%)]\t training loss: 0.148821\n",
      "epoch: 1 [40320/60000 (67%)]\t training loss: 0.063613\n",
      "epoch: 1 [40640/60000 (68%)]\t training loss: 0.202565\n",
      "epoch: 1 [40960/60000 (68%)]\t training loss: 0.189350\n",
      "epoch: 1 [41280/60000 (69%)]\t training loss: 0.214407\n",
      "epoch: 1 [41600/60000 (69%)]\t training loss: 0.161451\n",
      "epoch: 1 [41920/60000 (70%)]\t training loss: 0.052790\n",
      "epoch: 1 [42240/60000 (70%)]\t training loss: 0.012506\n",
      "epoch: 1 [42560/60000 (71%)]\t training loss: 0.035301\n",
      "epoch: 1 [42880/60000 (71%)]\t training loss: 0.092850\n",
      "epoch: 1 [43200/60000 (72%)]\t training loss: 0.033246\n",
      "epoch: 1 [43520/60000 (73%)]\t training loss: 0.207905\n",
      "epoch: 1 [43840/60000 (73%)]\t training loss: 0.049901\n",
      "epoch: 1 [44160/60000 (74%)]\t training loss: 0.145966\n",
      "epoch: 1 [44480/60000 (74%)]\t training loss: 0.058936\n",
      "epoch: 1 [44800/60000 (75%)]\t training loss: 0.230229\n",
      "epoch: 1 [45120/60000 (75%)]\t training loss: 0.021234\n",
      "epoch: 1 [45440/60000 (76%)]\t training loss: 0.197854\n",
      "epoch: 1 [45760/60000 (76%)]\t training loss: 0.005165\n",
      "epoch: 1 [46080/60000 (77%)]\t training loss: 0.204519\n",
      "epoch: 1 [46400/60000 (77%)]\t training loss: 0.062557\n",
      "epoch: 1 [46720/60000 (78%)]\t training loss: 0.101335\n",
      "epoch: 1 [47040/60000 (78%)]\t training loss: 0.078106\n",
      "epoch: 1 [47360/60000 (79%)]\t training loss: 0.033769\n",
      "epoch: 1 [47680/60000 (79%)]\t training loss: 0.207172\n",
      "epoch: 1 [48000/60000 (80%)]\t training loss: 0.195945\n",
      "epoch: 1 [48320/60000 (81%)]\t training loss: 0.169968\n",
      "epoch: 1 [48640/60000 (81%)]\t training loss: 0.016087\n"
     ]
    },
    {
     "name": "stdout",
     "output_type": "stream",
     "text": [
      "epoch: 1 [48960/60000 (82%)]\t training loss: 0.064825\n",
      "epoch: 1 [49280/60000 (82%)]\t training loss: 0.186619\n",
      "epoch: 1 [49600/60000 (83%)]\t training loss: 0.234463\n",
      "epoch: 1 [49920/60000 (83%)]\t training loss: 0.135859\n",
      "epoch: 1 [50240/60000 (84%)]\t training loss: 0.060284\n",
      "epoch: 1 [50560/60000 (84%)]\t training loss: 0.006255\n",
      "epoch: 1 [50880/60000 (85%)]\t training loss: 0.006335\n",
      "epoch: 1 [51200/60000 (85%)]\t training loss: 0.230939\n",
      "epoch: 1 [51520/60000 (86%)]\t training loss: 0.028286\n",
      "epoch: 1 [51840/60000 (86%)]\t training loss: 0.009054\n",
      "epoch: 1 [52160/60000 (87%)]\t training loss: 0.015087\n",
      "epoch: 1 [52480/60000 (87%)]\t training loss: 0.012862\n",
      "epoch: 1 [52800/60000 (88%)]\t training loss: 0.037046\n",
      "epoch: 1 [53120/60000 (89%)]\t training loss: 0.027532\n",
      "epoch: 1 [53440/60000 (89%)]\t training loss: 0.015318\n",
      "epoch: 1 [53760/60000 (90%)]\t training loss: 0.067134\n",
      "epoch: 1 [54080/60000 (90%)]\t training loss: 0.015243\n",
      "epoch: 1 [54400/60000 (91%)]\t training loss: 0.090634\n",
      "epoch: 1 [54720/60000 (91%)]\t training loss: 0.012734\n",
      "epoch: 1 [55040/60000 (92%)]\t training loss: 0.002452\n",
      "epoch: 1 [55360/60000 (92%)]\t training loss: 0.067479\n",
      "epoch: 1 [55680/60000 (93%)]\t training loss: 0.048772\n",
      "epoch: 1 [56000/60000 (93%)]\t training loss: 0.054053\n",
      "epoch: 1 [56320/60000 (94%)]\t training loss: 0.133125\n",
      "epoch: 1 [56640/60000 (94%)]\t training loss: 0.066591\n",
      "epoch: 1 [56960/60000 (95%)]\t training loss: 0.034025\n",
      "epoch: 1 [57280/60000 (95%)]\t training loss: 0.086131\n",
      "epoch: 1 [57600/60000 (96%)]\t training loss: 0.003845\n",
      "epoch: 1 [57920/60000 (97%)]\t training loss: 0.079281\n",
      "epoch: 1 [58240/60000 (97%)]\t training loss: 0.028875\n",
      "epoch: 1 [58560/60000 (98%)]\t training loss: 0.009433\n",
      "epoch: 1 [58880/60000 (98%)]\t training loss: 0.095279\n",
      "epoch: 1 [59200/60000 (99%)]\t training loss: 0.005893\n",
      "epoch: 1 [59520/60000 (99%)]\t training loss: 0.037366\n",
      "epoch: 1 [59840/60000 (100%)]\t training loss: 0.032506\n",
      "\n",
      "Test dataset: Overall Loss: 0.0473, Overall Accuracy: 9848/10000 (98%)\n",
      "\n"
     ]
    }
   ],
   "source": [
    "for epoch in range(1, 2):\n",
    "    train(model, device, train_dataloader, optimizer, epoch)\n",
    "    test(model, device, test_dataloader)"
   ]
  },
  {
   "cell_type": "markdown",
   "metadata": {},
   "source": [
    "## run inference on trained model"
   ]
  },
  {
   "cell_type": "code",
   "execution_count": 11,
   "metadata": {
    "scrolled": false
   },
   "outputs": [
    {
     "data": {
      "image/png": "[encoded data removed]",
      "text/plain": [
       "<Figure size 432x288 with 1 Axes>"
      ]
     },
     "metadata": {
      "needs_background": "light"
     },
     "output_type": "display_data"
    }
   ],
   "source": [
    "test_samples = enumerate(test_dataloader)\n",
    "b_i, (sample_data, sample_targets) = next(test_samples)\n",
    "\n",
    "plt.imshow(sample_data[0][0], cmap='gray', interpolation='none')\n",
    "plt.show()"
   ]
  },
  {
   "cell_type": "code",
   "execution_count": 12,
   "metadata": {},
   "outputs": [
    {
     "name": "stdout",
     "output_type": "stream",
     "text": [
      "Model prediction is : 0\n",
      "Ground truth is : 0\n"
     ]
    }
   ],
   "source": [
    "print(f\"Model prediction is : {model(sample_data).data.max(1)[1][0]}\")\n",
    "print(f\"Ground truth is : {sample_targets[0]}\")"
   ]
  },
  {
   "cell_type": "markdown",
   "metadata": {},
   "source": [
    "## captum tools"
   ]
  },
  {
   "cell_type": "code",
   "execution_count": 13,
   "metadata": {},
   "outputs": [],
   "source": [
    "captum_input = sample_data[0].unsqueeze(0)\n",
    "captum_input.requires_grad = True"
   ]
  },
  {
   "cell_type": "code",
   "execution_count": null,
   "metadata": {},
   "outputs": [],
   "source": []
  },
  {
   "cell_type": "code",
   "execution_count": 14,
   "metadata": {},
   "outputs": [
    {
     "name": "stderr",
     "output_type": "stream",
     "text": [
      "Clipping input data to the valid range for imshow with RGB data ([0..1] for floats or [0..255] for integers).\n"
     ]
    },
    {
     "data": {
      "image/png": "[encoded data removed]",
      "text/plain": [
       "<Figure size 432x432 with 1 Axes>"
      ]
     },
     "metadata": {
      "needs_background": "light"
     },
     "output_type": "display_data"
    }
   ],
   "source": [
    "orig_image = np.tile(np.transpose((sample_data[0].cpu().detach().numpy() / 2) + 0.5, (1, 2, 0)), (1,1,3))\n",
    "# tmp = np.transpose((sample_data[0].cpu().detach().numpy() / 2) + 0.5, (1, 2, 0))\n",
    "# orig_image = np.concatenate([tmp, np.zeros(tmp.shape), np.zeros(tmp.shape)], axis=2)\n",
    "_ = viz.visualize_image_attr(None, orig_image, cmap='gray', method=\"original_image\", title=\"Original Image\")"
   ]
  },
  {
   "cell_type": "code",
   "execution_count": 15,
   "metadata": {},
   "outputs": [
    {
     "data": {
      "image/png": "[encoded data removed]",
      "text/plain": [
       "<Figure size 432x432 with 2 Axes>"
      ]
     },
     "metadata": {
      "needs_background": "light"
     },
     "output_type": "display_data"
    }
   ],
   "source": [
    "saliency = Saliency(model)\n",
    "gradients = saliency.attribute(captum_input, target=sample_targets[0].item())\n",
    "gradients = np.reshape(gradients.squeeze().cpu().detach().numpy(), (28, 28, 1))\n",
    "_ = viz.visualize_image_attr(gradients, orig_image, method=\"blended_heat_map\", sign=\"absolute_value\",\n",
    "                          show_colorbar=True, title=\"Overlayed Gradients\")"
   ]
  },
  {
   "cell_type": "code",
   "execution_count": 16,
   "metadata": {},
   "outputs": [
    {
     "data": {
      "image/png": "[encoded data removed]",
      "text/plain": [
       "<Figure size 432x288 with 1 Axes>"
      ]
     },
     "metadata": {
      "needs_background": "light"
     },
     "output_type": "display_data"
    }
   ],
   "source": [
    "plt.imshow(np.tile(gradients/(np.max(gradients)), (1,1,3)));"
   ]
  },
  {
   "cell_type": "code",
   "execution_count": 17,
   "metadata": {},
   "outputs": [
    {
     "data": {
      "image/png": "[encoded data removed]",
      "text/plain": [
       "<Figure size 432x432 with 2 Axes>"
      ]
     },
     "metadata": {
      "needs_background": "light"
     },
     "output_type": "display_data"
    }
   ],
   "source": [
    "integ_grads = IntegratedGradients(model)\n",
    "attributed_ig, delta = integ_grads.attribute(captum_input, target=sample_targets[0].item(), baselines=captum_input * 0, \n",
    "                              return_convergence_delta=True)\n",
    "attributed_ig = np.reshape(attributed_ig.squeeze().cpu().detach().numpy(), (28, 28, 1))\n",
    "_ = viz.visualize_image_attr(attributed_ig, orig_image, method=\"blended_heat_map\",sign=\"all\", show_colorbar=True, \n",
    "                             title=\"Overlayed Integrated Gradients\")"
   ]
  },
  {
   "cell_type": "code",
   "execution_count": 18,
   "metadata": {},
   "outputs": [
    {
     "name": "stderr",
     "output_type": "stream",
     "text": [
      "/Users/ashish.jha/opt/anaconda3/envs/mastering_pytorch/lib/python3.9/site-packages/captum/attr/_core/deep_lift.py:336: UserWarning: Setting forward, backward hooks and attributes on non-linear\n",
      "               activations. The hooks and attributes will be removed\n",
      "            after the attribution is finished\n",
      "  warnings.warn(\n"
     ]
    },
    {
     "data": {
      "image/png": "[encoded data removed]",
      "text/plain": [
       "<Figure size 432x432 with 2 Axes>"
      ]
     },
     "metadata": {
      "needs_background": "light"
     },
     "output_type": "display_data"
    }
   ],
   "source": [
    "deep_lift = DeepLift(model)\n",
    "attributed_dl = deep_lift.attribute(captum_input, target=sample_targets[0].item(), baselines=captum_input * 0, \n",
    "                              return_convergence_delta=False)\n",
    "attributed_dl = np.reshape(attributed_dl.squeeze(0).cpu().detach().numpy(), (28, 28, 1))\n",
    "_ = viz.visualize_image_attr(attributed_dl, orig_image, method=\"blended_heat_map\",sign=\"all\",show_colorbar=True, \n",
    "                          title=\"Overlayed DeepLift\")"
   ]
  },
  {
   "cell_type": "code",
   "execution_count": null,
   "metadata": {},
   "outputs": [],
   "source": []
  }
 ],
 "metadata": {
  "kernelspec": {
   "display_name": "Python 3 (ipykernel)",
   "language": "python",
   "name": "python3"
  },
  "language_info": {
   "codemirror_mode": {
    "name": "ipython",
    "version": 3
   },
   "file_extension": ".py",
   "mimetype": "text/x-python",
   "name": "python",
   "nbconvert_exporter": "python",
   "pygments_lexer": "ipython3",
   "version": "3.9.12"
  }
 },
 "nbformat": 4,
 "nbformat_minor": 4
}
