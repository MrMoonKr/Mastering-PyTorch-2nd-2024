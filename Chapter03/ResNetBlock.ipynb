{
 "cells": [
  {
   "cell_type": "code",
   "execution_count": 1,
   "metadata": {},
   "outputs": [
    {
     "name": "stdout",
     "output_type": "stream",
     "text": [
      "Requirement already satisfied: torch==1.12 in /Users/ashish.jha/opt/anaconda3/lib/python3.9/site-packages (1.12.0)\n",
      "Requirement already satisfied: typing-extensions in /Users/ashish.jha/opt/anaconda3/lib/python3.9/site-packages (from torch==1.12) (4.1.1)\n",
      "Requirement already satisfied: torchvision==0.13 in /Users/ashish.jha/opt/anaconda3/lib/python3.9/site-packages (0.13.0)\n",
      "Requirement already satisfied: pillow!=8.3.*,>=5.3.0 in /Users/ashish.jha/opt/anaconda3/lib/python3.9/site-packages (from torchvision==0.13) (9.0.1)\n",
      "Requirement already satisfied: requests in /Users/ashish.jha/opt/anaconda3/lib/python3.9/site-packages (from torchvision==0.13) (2.27.1)\n",
      "Requirement already satisfied: typing-extensions in /Users/ashish.jha/opt/anaconda3/lib/python3.9/site-packages (from torchvision==0.13) (4.1.1)\n",
      "Requirement already satisfied: torch==1.12.0 in /Users/ashish.jha/opt/anaconda3/lib/python3.9/site-packages (from torchvision==0.13) (1.12.0)\n",
      "Requirement already satisfied: numpy in /Users/ashish.jha/opt/anaconda3/lib/python3.9/site-packages (from torchvision==0.13) (1.21.5)\n",
      "Requirement already satisfied: idna<4,>=2.5 in /Users/ashish.jha/opt/anaconda3/lib/python3.9/site-packages (from requests->torchvision==0.13) (3.3)\n",
      "Requirement already satisfied: charset-normalizer~=2.0.0 in /Users/ashish.jha/opt/anaconda3/lib/python3.9/site-packages (from requests->torchvision==0.13) (2.0.4)\n",
      "Requirement already satisfied: urllib3<1.27,>=1.21.1 in /Users/ashish.jha/opt/anaconda3/lib/python3.9/site-packages (from requests->torchvision==0.13) (1.26.9)\n",
      "Requirement already satisfied: certifi>=2017.4.17 in /Users/ashish.jha/opt/anaconda3/lib/python3.9/site-packages (from requests->torchvision==0.13) (2021.10.8)\n",
      "Requirement already satisfied: nltk==3.7 in /Users/ashish.jha/opt/anaconda3/lib/python3.9/site-packages (3.7)\n",
      "Requirement already satisfied: regex>=2021.8.3 in /Users/ashish.jha/opt/anaconda3/lib/python3.9/site-packages (from nltk==3.7) (2022.3.15)\n",
      "Requirement already satisfied: joblib in /Users/ashish.jha/opt/anaconda3/lib/python3.9/site-packages (from nltk==3.7) (1.1.0)\n",
      "Requirement already satisfied: click in /Users/ashish.jha/opt/anaconda3/lib/python3.9/site-packages (from nltk==3.7) (8.0.4)\n",
      "Requirement already satisfied: tqdm in /Users/ashish.jha/opt/anaconda3/lib/python3.9/site-packages (from nltk==3.7) (4.64.0)\n",
      "1.12.0\n",
      "0.13.0\n",
      "3.7\n"
     ]
    }
   ],
   "source": [
    "!pip install torch==1.12\n",
    "!pip install torchvision==0.13\n",
    "!pip install nltk==3.7"
   ]
  },
  {
   "cell_type": "code",
   "execution_count": 2,
   "metadata": {},
   "outputs": [],
   "source": [
    "import torch.nn as nn"
   ]
  },
  {
   "cell_type": "code",
   "execution_count": 3,
   "metadata": {},
   "outputs": [],
   "source": [
    "class BasicBlock(nn.Module):\n",
    "    multiplier=1\n",
    "    def __init__(self, input_num_planes, num_planes, strd=1):\n",
    "        super(BasicBlock, self).__init__()\n",
    "        self.conv_layer1 = nn.Conv2d(in_channels=input_num_planes, out_channels=num_planes, kernel_size=3, stride=stride, padding=1, bias=False)\n",
    "        self.batch_norm1 = nn.BatchNorm2d(num_planes)\n",
    "        self.conv_layer2 = nn.Conv2d(in_channels=num_planes, out_channels=num_planes, kernel_size=3, stride=1, padding=1, bias=False)\n",
    "        self.batch_norm2 = nn.BatchNorm2d(num_planes)\n",
    " \n",
    "        self.res_connnection = nn.Sequential()\n",
    "        if strd > 1 or input_num_planes != self.multiplier*num_planes:\n",
    "            self.res_connnection = nn.Sequential(\n",
    "                nn.Conv2d(in_channels=input_num_planes, out_channels=self.multiplier*num_planes, kernel_size=1, stride=strd, bias=False),\n",
    "                nn.BatchNorm2d(self.multiplier*num_planes)\n",
    "            )\n",
    "    def forward(self, inp):\n",
    "        op = F.relu(self.batch_norm1(self.conv_layer1(inp)))\n",
    "        op = self.batch_norm2(self.conv_layer2(op))\n",
    "        op += self.res_connnection(inp)\n",
    "        op = F.relu(op)\n",
    "        return op"
   ]
  },
  {
   "cell_type": "code",
   "execution_count": null,
   "metadata": {},
   "outputs": [],
   "source": []
  }
 ],
 "metadata": {
  "kernelspec": {
   "display_name": "Python 3 (ipykernel)",
   "language": "python",
   "name": "python3"
  },
  "language_info": {
   "codemirror_mode": {
    "name": "ipython",
    "version": 3
   },
   "file_extension": ".py",
   "mimetype": "text/x-python",
   "name": "python",
   "nbconvert_exporter": "python",
   "pygments_lexer": "ipython3",
   "version": "3.9.12"
  }
 },
 "nbformat": 4,
 "nbformat_minor": 4
}
