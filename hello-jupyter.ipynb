{
 "cells": [
  {
   "cell_type": "code",
   "execution_count": 2,
   "metadata": {},
   "outputs": [
    {
     "name": "stdout",
     "output_type": "stream",
     "text": [
      "Hello, Jupyter Notebook , Hello Python , 안녕 파이썬, 안녕 주피터\n"
     ]
    }
   ],
   "source": [
    "print( 'Hello, Jupyter Notebook , Hello Python , 안녕 파이썬, 안녕 주피터' )"
   ]
  }
 ],
 "metadata": {
  "kernelspec": {
   "display_name": ".venv-local",
   "language": "python",
   "name": "python3"
  },
  "language_info": {
   "codemirror_mode": {
    "name": "ipython",
    "version": 3
   },
   "file_extension": ".py",
   "mimetype": "text/x-python",
   "name": "python",
   "nbconvert_exporter": "python",
   "pygments_lexer": "ipython3",
   "version": "3.12.0"
  }
 },
 "nbformat": 4,
 "nbformat_minor": 2
}
